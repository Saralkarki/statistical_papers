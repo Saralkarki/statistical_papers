{
 "cells": [
  {
   "cell_type": "code",
   "execution_count": 1,
   "metadata": {},
   "outputs": [],
   "source": [
    "import pandas as pd\n",
    "import matplotlib.pyplot as plt\n",
    "import seaborn as sns\n",
    "import numpy as np\n",
    "import pylab as pl\n",
    "import missingno as msno\n",
    "import stat\n",
    "from scipy.stats.stats import pearsonr\n",
    "import scipy.stats as stats\n",
    "# import train test split for splitting the data in train and test\n",
    "from sklearn.model_selection import train_test_split\n",
    "\n",
    "from sklearn.linear_model import LinearRegression\n",
    "\n"
   ]
  },
  {
   "cell_type": "code",
   "execution_count": 2,
   "metadata": {},
   "outputs": [],
   "source": [
    "data = \"https://raw.githubusercontent.com/Blackman9t/Machine_Learning/master/Original_2000_2014_Fuel_Consumption_Ratings.csv\"\n",
    "\n",
    "missing_data = ['na','N/A','','None','NAN','non',\"NONE\"]"
   ]
  },
  {
   "cell_type": "code",
   "execution_count": 3,
   "metadata": {},
   "outputs": [],
   "source": [
    "df = pd.read_csv(data)"
   ]
  },
  {
   "cell_type": "code",
   "execution_count": 4,
   "metadata": {},
   "outputs": [
    {
     "data": {
      "text/plain": [
       "False"
      ]
     },
     "execution_count": 4,
     "metadata": {},
     "output_type": "execute_result"
    }
   ],
   "source": [
    "# See if any data is missing\n",
    "df.isna().any().all()"
   ]
  },
  {
   "cell_type": "code",
   "execution_count": 5,
   "metadata": {},
   "outputs": [
    {
     "data": {
      "text/plain": [
       "(14343, 13)"
      ]
     },
     "execution_count": 5,
     "metadata": {},
     "output_type": "execute_result"
    }
   ],
   "source": [
    "# look at the shape\n",
    "df.shape"
   ]
  },
  {
   "cell_type": "code",
   "execution_count": 6,
   "metadata": {},
   "outputs": [],
   "source": [
    "#renaming the columns \n",
    "df.rename(columns = {\n",
    "    'FUEL_CONSUMPTION_CITY(L/100km)' : 'FUEL_CONS_CITY',\n",
    "    'ENGINE_SIZE(L)' :'ENGINE SIZE',\n",
    "    'HWY_(L/100km)':'HWY_L100',\n",
    "    'COMB_(L/100km)': 'COMB_L100',\n",
    "    'COMB_(mpg)': 'COMB_mpg',\n",
    "    'CO2_EMISSIONS(g/km)' : 'CO2_EMISSIONS'},\n",
    "    inplace = True)"
   ]
  },
  {
   "cell_type": "code",
   "execution_count": 7,
   "metadata": {},
   "outputs": [
    {
     "data": {
      "text/html": [
       "<div>\n",
       "<style scoped>\n",
       "    .dataframe tbody tr th:only-of-type {\n",
       "        vertical-align: middle;\n",
       "    }\n",
       "\n",
       "    .dataframe tbody tr th {\n",
       "        vertical-align: top;\n",
       "    }\n",
       "\n",
       "    .dataframe thead th {\n",
       "        text-align: right;\n",
       "    }\n",
       "</style>\n",
       "<table border=\"1\" class=\"dataframe\">\n",
       "  <thead>\n",
       "    <tr style=\"text-align: right;\">\n",
       "      <th></th>\n",
       "      <th>MODEL_YEAR</th>\n",
       "      <th>MAKE</th>\n",
       "      <th>MODEL</th>\n",
       "      <th>VEHICLE_CLASS</th>\n",
       "      <th>ENGINE SIZE</th>\n",
       "      <th>CYLINDERS</th>\n",
       "      <th>TRANSMISSION</th>\n",
       "      <th>FUEL_TYPE</th>\n",
       "      <th>FUEL_CONS_CITY</th>\n",
       "      <th>HWY_L100</th>\n",
       "      <th>COMB_L100</th>\n",
       "      <th>COMB_mpg</th>\n",
       "      <th>CO2_EMISSIONS</th>\n",
       "    </tr>\n",
       "  </thead>\n",
       "  <tbody>\n",
       "    <tr>\n",
       "      <th>0</th>\n",
       "      <td>2000</td>\n",
       "      <td>ACURA</td>\n",
       "      <td>1.6EL</td>\n",
       "      <td>COMPACT</td>\n",
       "      <td>1.6</td>\n",
       "      <td>4</td>\n",
       "      <td>A4</td>\n",
       "      <td>X</td>\n",
       "      <td>9.2</td>\n",
       "      <td>6.7</td>\n",
       "      <td>8.1</td>\n",
       "      <td>35</td>\n",
       "      <td>186</td>\n",
       "    </tr>\n",
       "    <tr>\n",
       "      <th>1</th>\n",
       "      <td>2000</td>\n",
       "      <td>ACURA</td>\n",
       "      <td>1.6EL</td>\n",
       "      <td>COMPACT</td>\n",
       "      <td>1.6</td>\n",
       "      <td>4</td>\n",
       "      <td>M5</td>\n",
       "      <td>X</td>\n",
       "      <td>8.5</td>\n",
       "      <td>6.5</td>\n",
       "      <td>7.6</td>\n",
       "      <td>37</td>\n",
       "      <td>175</td>\n",
       "    </tr>\n",
       "    <tr>\n",
       "      <th>2</th>\n",
       "      <td>2000</td>\n",
       "      <td>ACURA</td>\n",
       "      <td>3.2TL</td>\n",
       "      <td>MID-SIZE</td>\n",
       "      <td>3.2</td>\n",
       "      <td>6</td>\n",
       "      <td>AS5</td>\n",
       "      <td>Z</td>\n",
       "      <td>12.2</td>\n",
       "      <td>7.4</td>\n",
       "      <td>10.0</td>\n",
       "      <td>28</td>\n",
       "      <td>230</td>\n",
       "    </tr>\n",
       "    <tr>\n",
       "      <th>3</th>\n",
       "      <td>2000</td>\n",
       "      <td>ACURA</td>\n",
       "      <td>3.5RL</td>\n",
       "      <td>MID-SIZE</td>\n",
       "      <td>3.5</td>\n",
       "      <td>6</td>\n",
       "      <td>A4</td>\n",
       "      <td>Z</td>\n",
       "      <td>13.4</td>\n",
       "      <td>9.2</td>\n",
       "      <td>11.5</td>\n",
       "      <td>25</td>\n",
       "      <td>264</td>\n",
       "    </tr>\n",
       "    <tr>\n",
       "      <th>4</th>\n",
       "      <td>2000</td>\n",
       "      <td>ACURA</td>\n",
       "      <td>INTEGRA</td>\n",
       "      <td>SUBCOMPACT</td>\n",
       "      <td>1.8</td>\n",
       "      <td>4</td>\n",
       "      <td>A4</td>\n",
       "      <td>X</td>\n",
       "      <td>10.0</td>\n",
       "      <td>7.0</td>\n",
       "      <td>8.6</td>\n",
       "      <td>33</td>\n",
       "      <td>198</td>\n",
       "    </tr>\n",
       "  </tbody>\n",
       "</table>\n",
       "</div>"
      ],
      "text/plain": [
       "   MODEL_YEAR   MAKE    MODEL VEHICLE_CLASS  ENGINE SIZE  CYLINDERS  \\\n",
       "0        2000  ACURA    1.6EL       COMPACT          1.6          4   \n",
       "1        2000  ACURA    1.6EL       COMPACT          1.6          4   \n",
       "2        2000  ACURA    3.2TL      MID-SIZE          3.2          6   \n",
       "3        2000  ACURA    3.5RL      MID-SIZE          3.5          6   \n",
       "4        2000  ACURA  INTEGRA    SUBCOMPACT          1.8          4   \n",
       "\n",
       "  TRANSMISSION FUEL_TYPE  FUEL_CONS_CITY  HWY_L100  COMB_L100  COMB_mpg  \\\n",
       "0           A4         X             9.2       6.7        8.1        35   \n",
       "1           M5         X             8.5       6.5        7.6        37   \n",
       "2          AS5         Z            12.2       7.4       10.0        28   \n",
       "3           A4         Z            13.4       9.2       11.5        25   \n",
       "4           A4         X            10.0       7.0        8.6        33   \n",
       "\n",
       "   CO2_EMISSIONS  \n",
       "0            186  \n",
       "1            175  \n",
       "2            230  \n",
       "3            264  \n",
       "4            198  "
      ]
     },
     "execution_count": 7,
     "metadata": {},
     "output_type": "execute_result"
    }
   ],
   "source": [
    "df.head()"
   ]
  },
  {
   "cell_type": "code",
   "execution_count": 13,
   "metadata": {},
   "outputs": [
    {
     "data": {
      "text/html": [
       "<div>\n",
       "<style scoped>\n",
       "    .dataframe tbody tr th:only-of-type {\n",
       "        vertical-align: middle;\n",
       "    }\n",
       "\n",
       "    .dataframe tbody tr th {\n",
       "        vertical-align: top;\n",
       "    }\n",
       "\n",
       "    .dataframe thead th {\n",
       "        text-align: right;\n",
       "    }\n",
       "</style>\n",
       "<table border=\"1\" class=\"dataframe\">\n",
       "  <thead>\n",
       "    <tr style=\"text-align: right;\">\n",
       "      <th></th>\n",
       "      <th>MODEL_YEAR</th>\n",
       "      <th>MAKE</th>\n",
       "      <th>MODEL</th>\n",
       "      <th>VEHICLE_CLASS</th>\n",
       "      <th>ENGINE SIZE</th>\n",
       "      <th>CYLINDERS</th>\n",
       "      <th>TRANSMISSION</th>\n",
       "      <th>FUEL_TYPE</th>\n",
       "      <th>FUEL_CONS_CITY</th>\n",
       "      <th>HWY_L100</th>\n",
       "      <th>COMB_L100</th>\n",
       "      <th>COMB_mpg</th>\n",
       "      <th>CO2_EMISSIONS</th>\n",
       "    </tr>\n",
       "  </thead>\n",
       "  <tbody>\n",
       "    <tr>\n",
       "      <th>9120</th>\n",
       "      <td>2010</td>\n",
       "      <td>BUGATTI</td>\n",
       "      <td>VEYRON</td>\n",
       "      <td>TWO-SEATER</td>\n",
       "      <td>8.0</td>\n",
       "      <td>16</td>\n",
       "      <td>AS7</td>\n",
       "      <td>Z</td>\n",
       "      <td>27.5</td>\n",
       "      <td>15.5</td>\n",
       "      <td>22.1</td>\n",
       "      <td>13</td>\n",
       "      <td>508</td>\n",
       "    </tr>\n",
       "    <tr>\n",
       "      <th>10149</th>\n",
       "      <td>2011</td>\n",
       "      <td>BUGATTI</td>\n",
       "      <td>VEYRON</td>\n",
       "      <td>TWO-SEATER</td>\n",
       "      <td>8.0</td>\n",
       "      <td>16</td>\n",
       "      <td>AS7</td>\n",
       "      <td>Z</td>\n",
       "      <td>26.1</td>\n",
       "      <td>15.5</td>\n",
       "      <td>21.3</td>\n",
       "      <td>13</td>\n",
       "      <td>490</td>\n",
       "    </tr>\n",
       "    <tr>\n",
       "      <th>11220</th>\n",
       "      <td>2012</td>\n",
       "      <td>BUGATTI</td>\n",
       "      <td>VEYRON</td>\n",
       "      <td>TWO-SEATER</td>\n",
       "      <td>8.0</td>\n",
       "      <td>16</td>\n",
       "      <td>AS7</td>\n",
       "      <td>Z</td>\n",
       "      <td>26.1</td>\n",
       "      <td>15.5</td>\n",
       "      <td>21.3</td>\n",
       "      <td>13</td>\n",
       "      <td>490</td>\n",
       "    </tr>\n",
       "  </tbody>\n",
       "</table>\n",
       "</div>"
      ],
      "text/plain": [
       "       MODEL_YEAR     MAKE   MODEL VEHICLE_CLASS  ENGINE SIZE  CYLINDERS  \\\n",
       "9120         2010  BUGATTI  VEYRON    TWO-SEATER          8.0         16   \n",
       "10149        2011  BUGATTI  VEYRON    TWO-SEATER          8.0         16   \n",
       "11220        2012  BUGATTI  VEYRON    TWO-SEATER          8.0         16   \n",
       "\n",
       "      TRANSMISSION FUEL_TYPE  FUEL_CONS_CITY  HWY_L100  COMB_L100  COMB_mpg  \\\n",
       "9120           AS7         Z            27.5      15.5       22.1        13   \n",
       "10149          AS7         Z            26.1      15.5       21.3        13   \n",
       "11220          AS7         Z            26.1      15.5       21.3        13   \n",
       "\n",
       "       CO2_EMISSIONS  \n",
       "9120             508  \n",
       "10149            490  \n",
       "11220            490  "
      ]
     },
     "execution_count": 13,
     "metadata": {},
     "output_type": "execute_result"
    }
   ],
   "source": [
    "df[df['CYLINDERS'] == 16]"
   ]
  },
  {
   "cell_type": "code",
   "execution_count": 14,
   "metadata": {},
   "outputs": [
    {
     "data": {
      "text/plain": [
       "<matplotlib.axes._subplots.AxesSubplot at 0x1a247cc6a0>"
      ]
     },
     "execution_count": 14,
     "metadata": {},
     "output_type": "execute_result"
    },
    {
     "data": {
      "image/png": "[encoded data removed]",
      "text/plain": [
       "<Figure size 720x720 with 2 Axes>"
      ]
     },
     "metadata": {
      "needs_background": "light"
     },
     "output_type": "display_data"
    }
   ],
   "source": [
    "# Correlation matrix for the variable\n",
    "corrmat = df.corr()\n",
    "f, ax = plt.subplots(figsize=(10,10))\n",
    "# sns.heatmap(corrmat,vmax=1, square=True\n",
    "sns.heatmap(corrmat, cbar=True, annot=True, square=True, fmt='.2f', annot_kws={'size': 10})"
   ]
  },
  {
   "cell_type": "code",
   "execution_count": 15,
   "metadata": {},
   "outputs": [],
   "source": [
    "# The thing we are trying to look at is the the CO2 emission, and what is it affected by.\n"
   ]
  },
  {
   "cell_type": "code",
   "execution_count": 16,
   "metadata": {},
   "outputs": [],
   "source": [
    "# Simple linear regression first (C02 and Engine size) \n",
    "\n"
   ]
  },
  {
   "cell_type": "code",
   "execution_count": 17,
   "metadata": {},
   "outputs": [
    {
     "data": {
      "image/png": "[encoded data removed]",
      "text/plain": [
       "<Figure size 1152x432 with 1 Axes>"
      ]
     },
     "metadata": {
      "needs_background": "light"
     },
     "output_type": "display_data"
    }
   ],
   "source": [
    "# scatter plot the relationship between the two\n",
    "plt.figure(figsize=(16,6))\n",
    "co2_enginesize = sns.scatterplot(df['ENGINE SIZE'], df.CO2_EMISSIONS)\n",
    "# It looks like there is a positive correlation between the engine size and co2 emission. Meaning as the \n",
    "#engine size increase so does the CO2 Emission\n"
   ]
  },
  {
   "cell_type": "code",
   "execution_count": 18,
   "metadata": {},
   "outputs": [],
   "source": [
    "# Simple linear regression model to predict the CO2 emission for engine size . What do we need.\n",
    "# predicted Co2 emission = slope*x + y-intercept\n"
   ]
  },
  {
   "cell_type": "code",
   "execution_count": 19,
   "metadata": {},
   "outputs": [
    {
     "name": "stdout",
     "output_type": "stream",
     "text": [
      "0.8262805932245421\n",
      "The slope for the regression line is: 37.28016592048455\n"
     ]
    }
   ],
   "source": [
    "# Manually calculating the slope. Slope = Person's coefficent(Std of Y / std of X)\n",
    "\n",
    "# Pearson's R (or Correlation) from the coor matrix we can see (0.83) -Engine size and CO2 emission\n",
    "cor_co2_engine, pval = pearsonr(df['ENGINE SIZE'], df['CO2_EMISSIONS'])\n",
    "# next we need to find the standard deviation on Engine size and CO2 Emission\n",
    "std_engine_size = np.std(df['ENGINE SIZE'], ddof = 1)\n",
    "std_co2 = np.std(df['CO2_EMISSIONS'], ddof = 1)\n",
    "# print(cor_co2_engine, pval, std_engine_size, std_co2)\n",
    "print(cor_co2_engine)\n",
    "# We can there calcluate the slope\n",
    "slope_co2_engine = cor_co2_engine * (std_co2/std_engine_size)\n",
    "print(f'The slope for the regression line is: {slope_co2_engine}')"
   ]
  },
  {
   "cell_type": "code",
   "execution_count": 20,
   "metadata": {},
   "outputs": [
    {
     "name": "stdout",
     "output_type": "stream",
     "text": [
      "The mean x,y intercepts are X:3.4743080248204476, Y:248.53078156592065\n"
     ]
    }
   ],
   "source": [
    "# Next we need to find intercept. The intercept x and y coordiantes always pass through mean. Because the \n",
    "# the regress line exactly passes through those two coordinates.\n",
    "mean_of_engine_size = np.mean(df['ENGINE SIZE'])\n",
    "mean_of_co2_emission = np.mean(df['CO2_EMISSIONS'])\n",
    "print(f\"The mean x,y intercepts are X:{mean_of_engine_size}, Y:{mean_of_co2_emission}\")"
   ]
  },
  {
   "cell_type": "code",
   "execution_count": 21,
   "metadata": {},
   "outputs": [
    {
     "name": "stdout",
     "output_type": "stream",
     "text": [
      "The intercept is : 119.0080019417434\n"
     ]
    }
   ],
   "source": [
    "# Having found the two coordiantes where the line would intercept we can find out the intercept point \n",
    "# from the equation y = mx + b, or b = y - mx. In our case therefore,\n",
    "\n",
    "intercept_eng_co2 =  mean_of_co2_emission - (slope_co2_engine * mean_of_engine_size) \n",
    "print(f'The intercept is : {intercept_eng_co2}')"
   ]
  },
  {
   "cell_type": "code",
   "execution_count": 22,
   "metadata": {},
   "outputs": [],
   "source": [
    "# Had we used the scipy stats library let us see what the slope and intercept would have been\n",
    "slope,intercept,rval,pval, stderr = stats.linregress(df['ENGINE SIZE'],df['CO2_EMISSIONS'])"
   ]
  },
  {
   "cell_type": "code",
   "execution_count": 23,
   "metadata": {},
   "outputs": [
    {
     "name": "stdout",
     "output_type": "stream",
     "text": [
      "The slope is: 37.280165920484684, and the intercept: 119.00800194174212, correlation value: 0.8262805932245424\n"
     ]
    }
   ],
   "source": [
    "print(f'The slope is: {slope}, and the intercept: {intercept}, correlation value: {rval}')"
   ]
  },
  {
   "cell_type": "code",
   "execution_count": 24,
   "metadata": {},
   "outputs": [],
   "source": [
    "# Therefore we can see both the manual values calculated and the values calculated using scipy.stats library are \n",
    "#Same"
   ]
  },
  {
   "cell_type": "code",
   "execution_count": 25,
   "metadata": {},
   "outputs": [
    {
     "name": "stdout",
     "output_type": "stream",
     "text": [
      "The CO2 emitted would be : 275.5846968660357 g/km\n"
     ]
    }
   ],
   "source": [
    "# We can now predict any value for any engine size using this model \n",
    "\n",
    "# predicted co2 emission = 37.28x + 119.008\n",
    "# For example the size of engine is 4.2 , co2 emission would be\n",
    "engine_size_5_8 = slope*(4.2) + 119.008\n",
    "print(f'The CO2 emitted would be : {engine_size_5_8} g/km')"
   ]
  },
  {
   "cell_type": "code",
   "execution_count": 26,
   "metadata": {},
   "outputs": [],
   "source": [
    "# Predicting value for test set\n",
    "X1 = df[['ENGINE SIZE']]\n",
    "y1 = df.CO2_EMISSIONS\n",
    "X_train_1, X_test_1, y_train_1, y_test_1 = train_test_split(X1,y1,test_size = 0.25, shuffle = True)\n"
   ]
  },
  {
   "cell_type": "code",
   "execution_count": 27,
   "metadata": {},
   "outputs": [
    {
     "name": "stdout",
     "output_type": "stream",
     "text": [
      "37.280165920484684 119.00800194174212\n"
     ]
    }
   ],
   "source": [
    "# Use training values to train the model \n",
    "slope_simple_model,intercept_simple_model,rval_simple_model,pval_simple_model, stderr_simple_model = stats.linregress(df['ENGINE SIZE'],df['CO2_EMISSIONS'])\n",
    "print(slope_simple_model,intercept_simple_model)"
   ]
  },
  {
   "cell_type": "code",
   "execution_count": 28,
   "metadata": {},
   "outputs": [],
   "source": [
    "# Now let us write function to predict the values in X_test_1\n",
    "def predicted_co2(x):\n",
    "    x = list(x)\n",
    "    x = x[0]* slope_simple_model + intercept_simple_model\n",
    "    return x"
   ]
  },
  {
   "cell_type": "code",
   "execution_count": 29,
   "metadata": {},
   "outputs": [],
   "source": [
    "X_evalute = pd.DataFrame(X_test_1)"
   ]
  },
  {
   "cell_type": "code",
   "execution_count": 30,
   "metadata": {},
   "outputs": [],
   "source": [
    "pred_sl = np.ceil(X_evalute.apply(predicted_co2, axis = 1))"
   ]
  },
  {
   "cell_type": "code",
   "execution_count": 31,
   "metadata": {},
   "outputs": [],
   "source": [
    "prediction_simple_model = pd.concat([pd.DataFrame(y_test_1), pd.DataFrame(pred_sl)], axis = 1)\n"
   ]
  },
  {
   "cell_type": "code",
   "execution_count": 32,
   "metadata": {},
   "outputs": [
    {
     "name": "stdout",
     "output_type": "stream",
     "text": [
      "(3586, 1) (3586, 1)\n"
     ]
    }
   ],
   "source": [
    "print(pd.DataFrame(y_test_1).shape, pd.DataFrame(pred_sl).shape)"
   ]
  },
  {
   "cell_type": "code",
   "execution_count": 33,
   "metadata": {},
   "outputs": [
    {
     "data": {
      "text/html": [
       "<div>\n",
       "<style scoped>\n",
       "    .dataframe tbody tr th:only-of-type {\n",
       "        vertical-align: middle;\n",
       "    }\n",
       "\n",
       "    .dataframe tbody tr th {\n",
       "        vertical-align: top;\n",
       "    }\n",
       "\n",
       "    .dataframe thead th {\n",
       "        text-align: right;\n",
       "    }\n",
       "</style>\n",
       "<table border=\"1\" class=\"dataframe\">\n",
       "  <thead>\n",
       "    <tr style=\"text-align: right;\">\n",
       "      <th></th>\n",
       "      <th>CO2_EMISSIONS</th>\n",
       "      <th>0</th>\n",
       "    </tr>\n",
       "  </thead>\n",
       "  <tbody>\n",
       "    <tr>\n",
       "      <th>1465</th>\n",
       "      <td>343</td>\n",
       "      <td>298.0</td>\n",
       "    </tr>\n",
       "    <tr>\n",
       "      <th>5330</th>\n",
       "      <td>161</td>\n",
       "      <td>179.0</td>\n",
       "    </tr>\n",
       "    <tr>\n",
       "      <th>13814</th>\n",
       "      <td>219</td>\n",
       "      <td>250.0</td>\n",
       "    </tr>\n",
       "    <tr>\n",
       "      <th>8661</th>\n",
       "      <td>237</td>\n",
       "      <td>194.0</td>\n",
       "    </tr>\n",
       "    <tr>\n",
       "      <th>3588</th>\n",
       "      <td>239</td>\n",
       "      <td>194.0</td>\n",
       "    </tr>\n",
       "  </tbody>\n",
       "</table>\n",
       "</div>"
      ],
      "text/plain": [
       "       CO2_EMISSIONS      0\n",
       "1465             343  298.0\n",
       "5330             161  179.0\n",
       "13814            219  250.0\n",
       "8661             237  194.0\n",
       "3588             239  194.0"
      ]
     },
     "execution_count": 33,
     "metadata": {},
     "output_type": "execute_result"
    }
   ],
   "source": [
    "prediction_simple_model.head()"
   ]
  },
  {
   "cell_type": "code",
   "execution_count": 34,
   "metadata": {},
   "outputs": [
    {
     "name": "stdout",
     "output_type": "stream",
     "text": [
      "The CO2 emitted would be : 275.5846968660357 g/km\n"
     ]
    }
   ],
   "source": [
    "# test with 4.2 \n",
    "engine_size_4_2 = slope_simple_model*(4.2) + intercept_simple_model\n",
    "print(f'The CO2 emitted would be : {engine_size_5_8} g/km')"
   ]
  },
  {
   "cell_type": "code",
   "execution_count": 35,
   "metadata": {},
   "outputs": [
    {
     "ename": "NameError",
     "evalue": "name 'mean_squared_error' is not defined",
     "output_type": "error",
     "traceback": [
      "\u001b[0;31m---------------------------------------------------------------------------\u001b[0m",
      "\u001b[0;31mNameError\u001b[0m                                 Traceback (most recent call last)",
      "\u001b[0;32m<ipython-input-35-a4032ea83bfa>\u001b[0m in \u001b[0;36m<module>\u001b[0;34m\u001b[0m\n\u001b[1;32m      1\u001b[0m \u001b[0;31m# Measure the accuracy of the model\u001b[0m\u001b[0;34m\u001b[0m\u001b[0;34m\u001b[0m\u001b[0;34m\u001b[0m\u001b[0m\n\u001b[0;32m----> 2\u001b[0;31m \u001b[0mMSE_simple\u001b[0m \u001b[0;34m=\u001b[0m \u001b[0mmean_squared_error\u001b[0m\u001b[0;34m(\u001b[0m\u001b[0my_test_1\u001b[0m\u001b[0;34m,\u001b[0m \u001b[0mpred_sl\u001b[0m\u001b[0;34m)\u001b[0m\u001b[0;34m\u001b[0m\u001b[0;34m\u001b[0m\u001b[0m\n\u001b[0m\u001b[1;32m      3\u001b[0m \u001b[0mRMSE_simple\u001b[0m \u001b[0;34m=\u001b[0m \u001b[0mMSE_simple\u001b[0m \u001b[0;34m**\u001b[0m \u001b[0;36m0.5\u001b[0m\u001b[0;34m\u001b[0m\u001b[0;34m\u001b[0m\u001b[0m\n\u001b[1;32m      4\u001b[0m \u001b[0my_range_simple\u001b[0m \u001b[0;34m=\u001b[0m \u001b[0my_test\u001b[0m\u001b[0;34m.\u001b[0m\u001b[0mmax\u001b[0m\u001b[0;34m(\u001b[0m\u001b[0;34m)\u001b[0m \u001b[0;34m-\u001b[0m \u001b[0my_test\u001b[0m\u001b[0;34m.\u001b[0m\u001b[0mmin\u001b[0m\u001b[0;34m(\u001b[0m\u001b[0;34m)\u001b[0m\u001b[0;34m\u001b[0m\u001b[0;34m\u001b[0m\u001b[0m\n\u001b[1;32m      5\u001b[0m \u001b[0merror_margin_simple\u001b[0m \u001b[0;34m=\u001b[0m \u001b[0;34m(\u001b[0m\u001b[0mRMSE_simple\u001b[0m\u001b[0;34m/\u001b[0m\u001b[0my_range_simple\u001b[0m\u001b[0;34m)\u001b[0m\u001b[0;34m*\u001b[0m\u001b[0;36m100\u001b[0m\u001b[0;34m\u001b[0m\u001b[0;34m\u001b[0m\u001b[0m\n",
      "\u001b[0;31mNameError\u001b[0m: name 'mean_squared_error' is not defined"
     ]
    }
   ],
   "source": [
    "# Measure the accuracy of the model\n",
    "MSE_simple = mean_squared_error(y_test_1, pred_sl)\n",
    "RMSE_simple = MSE_simple ** 0.5\n",
    "y_range_simple = y_test.max() - y_test.min()\n",
    "error_margin_simple = (RMSE_simple/y_range_simple)*100\n",
    "r2_score_simple = r2_score(y_test_1, pred_sl)\n",
    "print(error_margin_simple, r2_score_simple)"
   ]
  },
  {
   "cell_type": "markdown",
   "metadata": {},
   "source": [
    "We can see our model is only 68% confident in each prediction in this case. And the error margin is 6.79% of the range of target variable. "
   ]
  },
  {
   "cell_type": "markdown",
   "metadata": {},
   "source": [
    "### using sklearn model to do the samel\n",
    "    "
   ]
  },
  {
   "cell_type": "code",
   "execution_count": 37,
   "metadata": {},
   "outputs": [
    {
     "data": {
      "text/plain": [
       "LinearRegression(copy_X=True, fit_intercept=True, n_jobs=None, normalize=False)"
      ]
     },
     "execution_count": 37,
     "metadata": {},
     "output_type": "execute_result"
    }
   ],
   "source": [
    "model_sm = LinearRegression()\n",
    "model_sm.fit(X_train_1, y_train_1)"
   ]
  },
  {
   "cell_type": "code",
   "execution_count": 38,
   "metadata": {},
   "outputs": [],
   "source": [
    "simple_slope = model_sm.coef_\n",
    "simple_gradient = model_sm.intercept_"
   ]
  },
  {
   "cell_type": "code",
   "execution_count": 39,
   "metadata": {},
   "outputs": [
    {
     "name": "stdout",
     "output_type": "stream",
     "text": [
      "[37.2497976] 119.21144225044893\n",
      "37.280165920484684 119.00800194174212\n"
     ]
    }
   ],
   "source": [
    "#From the model\n",
    "print(simple_slope,simple_gradient)\n",
    "print(slope_simple_model,intercept_simple_model)"
   ]
  },
  {
   "cell_type": "code",
   "execution_count": 40,
   "metadata": {},
   "outputs": [],
   "source": [
    "prediction_sk_model = model_sm.predict(X_test_1)\n"
   ]
  },
  {
   "cell_type": "code",
   "execution_count": 41,
   "metadata": {},
   "outputs": [
    {
     "ename": "NameError",
     "evalue": "name 'mean_squared_error' is not defined",
     "output_type": "error",
     "traceback": [
      "\u001b[0;31m---------------------------------------------------------------------------\u001b[0m",
      "\u001b[0;31mNameError\u001b[0m                                 Traceback (most recent call last)",
      "\u001b[0;32m<ipython-input-41-1f688506648f>\u001b[0m in \u001b[0;36m<module>\u001b[0;34m\u001b[0m\n\u001b[1;32m      1\u001b[0m \u001b[0;31m# measure the accuracy\u001b[0m\u001b[0;34m\u001b[0m\u001b[0;34m\u001b[0m\u001b[0;34m\u001b[0m\u001b[0m\n\u001b[0;32m----> 2\u001b[0;31m \u001b[0mMSE_sk\u001b[0m \u001b[0;34m=\u001b[0m \u001b[0mmean_squared_error\u001b[0m\u001b[0;34m(\u001b[0m\u001b[0my_test_1\u001b[0m\u001b[0;34m,\u001b[0m \u001b[0mprediction_sk_model\u001b[0m\u001b[0;34m)\u001b[0m\u001b[0;34m\u001b[0m\u001b[0;34m\u001b[0m\u001b[0m\n\u001b[0m\u001b[1;32m      3\u001b[0m \u001b[0mRMSE_sk\u001b[0m \u001b[0;34m=\u001b[0m \u001b[0mMSE_sk\u001b[0m \u001b[0;34m**\u001b[0m \u001b[0;36m0.5\u001b[0m\u001b[0;34m\u001b[0m\u001b[0;34m\u001b[0m\u001b[0m\n\u001b[1;32m      4\u001b[0m \u001b[0my_range_sk\u001b[0m \u001b[0;34m=\u001b[0m \u001b[0my_test\u001b[0m\u001b[0;34m.\u001b[0m\u001b[0mmax\u001b[0m\u001b[0;34m(\u001b[0m\u001b[0;34m)\u001b[0m \u001b[0;34m-\u001b[0m \u001b[0my_test\u001b[0m\u001b[0;34m.\u001b[0m\u001b[0mmin\u001b[0m\u001b[0;34m(\u001b[0m\u001b[0;34m)\u001b[0m\u001b[0;34m\u001b[0m\u001b[0;34m\u001b[0m\u001b[0m\n\u001b[1;32m      5\u001b[0m \u001b[0merror_margin_sk\u001b[0m \u001b[0;34m=\u001b[0m \u001b[0;34m(\u001b[0m\u001b[0mRMSE_sk\u001b[0m\u001b[0;34m/\u001b[0m\u001b[0my_range_sk\u001b[0m\u001b[0;34m)\u001b[0m\u001b[0;34m*\u001b[0m\u001b[0;36m100\u001b[0m\u001b[0;34m\u001b[0m\u001b[0;34m\u001b[0m\u001b[0m\n",
      "\u001b[0;31mNameError\u001b[0m: name 'mean_squared_error' is not defined"
     ]
    }
   ],
   "source": [
    "# measure the accuracy\n",
    "MSE_sk = mean_squared_error(y_test_1, prediction_sk_model)\n",
    "RMSE_sk = MSE_sk ** 0.5\n",
    "y_range_sk = y_test.max() - y_test.min()\n",
    "error_margin_sk = (RMSE_sk/y_range_sk)*100\n",
    "r2_score_sk = r2_score(y_test_1, prediction_sk_model)\n",
    "print(error_margin_sk, r2_score_sk)"
   ]
  },
  {
   "cell_type": "markdown",
   "metadata": {},
   "source": [
    "We can see our accuracy using this model is 68% and the error-margin is still aroud 6.79%of the range of target values. "
   ]
  },
  {
   "cell_type": "markdown",
   "metadata": {},
   "source": [
    "We can therefore conduct mulltiple linear regression to get a better estimate of the what the c02 value will be.  \n",
    "\n",
    "So let's switch our attention now to multiple linear regression\n",
    "\n",
    "We can define it by the equation : y_hat = b0 + b1x1+ b2x2 + b3x3+....+bnXn\n",
    "\n",
    "Here, y_hat = model predicted or predicted value for co2 emission in our case\n",
    "\n",
    "b0 to bn are the parameters for the model . b0 is the intercept .\n",
    "\n",
    "In a multiple linear regression, we are trying to predict a continuos dependent variable, using two or more features \n",
    "or indepedent variables.\n",
    "\n",
    "We already have our correaltion matrix. \n",
    "\n"
   ]
  },
  {
   "cell_type": "code",
   "execution_count": 42,
   "metadata": {},
   "outputs": [
    {
     "data": {
      "text/plain": [
       "<matplotlib.axes._subplots.AxesSubplot at 0x1a23f8dcf8>"
      ]
     },
     "execution_count": 42,
     "metadata": {},
     "output_type": "execute_result"
    },
    {
     "data": {
      "image/png": "[encoded data removed]",
      "text/plain": [
       "<Figure size 720x432 with 2 Axes>"
      ]
     },
     "metadata": {
      "needs_background": "light"
     },
     "output_type": "display_data"
    }
   ],
   "source": [
    "corrmat = df.corr()\n",
    "plt.figure(figsize=(10,6))\n",
    "# sns.heatmap(corrmat,vmax=1, square=True\n",
    "sns.heatmap(corrmat, cbar=True, annot=True, square=True, fmt='.2f', annot_kws={'size': 10})"
   ]
  },
  {
   "cell_type": "markdown",
   "metadata": {},
   "source": [
    "We can see that Engine Size, Cylinders, Fuel Consumption in city, HWy_l100,comb_l100 , comb_mpg are closely correlated with CO2_Emission.\n",
    "\n",
    "Further more in our case we can see that the Fuel consumption in city, HWYL100 and comb 100 have a strong correlation \n",
    "between themselves. This is called multi-colinearity. Moderate multicolinearity might now pose a problem, however, like in our case where a colinearlity of 0.99 is seen this might cause problems, such as \n",
    "- Estimates for regression cofficients to be unreliable\n",
    "- Multicolinearity saps the statistical power of the analysis can cause the coefficients to switch signs, distorting the correct model.\n",
    "\n",
    "We will look at Multicolinearity and how to measure the extent of it using a technique called Variance Inflation factor later. For now though let us drop the variable that might cause this issue.\n",
    "\n",
    "We will therefore use Engine Size, cylinders and COMB_MPG(FUEL COnsumption l/100km) as our independent variables"
   ]
  },
  {
   "cell_type": "code",
   "execution_count": 43,
   "metadata": {},
   "outputs": [],
   "source": [
    "# Define the feature matrix \n",
    "X = df[['ENGINE SIZE','CYLINDERS','COMB_mpg']]\n",
    "ones = np.ones(len(X), dtype = 'int8')\n",
    "X.insert(0,'Ones',ones)"
   ]
  },
  {
   "cell_type": "code",
   "execution_count": 44,
   "metadata": {},
   "outputs": [],
   "source": [
    "# Define the target Matrix \n",
    "y = df.CO2_EMISSIONS"
   ]
  },
  {
   "cell_type": "code",
   "execution_count": 45,
   "metadata": {},
   "outputs": [
    {
     "data": {
      "text/plain": [
       "0    186\n",
       "1    175\n",
       "2    230\n",
       "3    264\n",
       "4    198\n",
       "Name: CO2_EMISSIONS, dtype: int64"
      ]
     },
     "execution_count": 45,
     "metadata": {},
     "output_type": "execute_result"
    }
   ],
   "source": [
    "y.head()"
   ]
  },
  {
   "cell_type": "code",
   "execution_count": 46,
   "metadata": {},
   "outputs": [],
   "source": [
    "# Splitting the data into training and testing dataset\n",
    "X_train, X_test, y_train, y_test = train_test_split(X,y,test_size = 0.25, shuffle = True)"
   ]
  },
  {
   "cell_type": "code",
   "execution_count": 47,
   "metadata": {},
   "outputs": [
    {
     "name": "stdout",
     "output_type": "stream",
     "text": [
      "X train shape is (10757, 4)\n",
      "X test shape is (3586, 4)\n",
      "Y train shape is (10757,)\n",
      "y test shape is (3586,)\n"
     ]
    }
   ],
   "source": [
    "# Display the shape of the training and test data set\n",
    "print('X train shape is', X_train.shape)\n",
    "print('X test shape is', X_test.shape)\n",
    "print('Y train shape is', y_train.shape)\n",
    "print('y test shape is', y_test.shape)"
   ]
  },
  {
   "cell_type": "markdown",
   "metadata": {},
   "source": [
    "We will be using the least squares estimates(LSE) to find the intercepts. The LSE works very well for computing \n",
    "the coeffients of linear regression, whether simple or multiple linear regression.\n",
    "\n",
    "The only drawback to the LSE is if the independent variable are linearly-dependent. \n",
    "\n",
    "The LSE formula\n",
    "b = (inverse of (Matrix of X-transposed pre-multiplied by matrix X))pre-multiplied by matrix of X-transposed premultipled by matrix of y"
   ]
  },
  {
   "cell_type": "code",
   "execution_count": 48,
   "metadata": {},
   "outputs": [],
   "source": [
    "# Conver the X_train and X_test to numpy array for ease of computing\n",
    "X_train = X_train.values\n",
    "X_test = X_test.values\n",
    "y_train = y_train.values\n",
    "y_test = y_test.values"
   ]
  },
  {
   "cell_type": "code",
   "execution_count": 49,
   "metadata": {},
   "outputs": [
    {
     "name": "stdout",
     "output_type": "stream",
     "text": [
      "The shape when x_train is transpose (4, 10757)\n"
     ]
    }
   ],
   "source": [
    "# Next we can transpose the X_train\n",
    "X_trans = X_train.transpose()\n",
    "print(\"The shape when x_train is transpose\",X_trans.shape)"
   ]
  },
  {
   "cell_type": "code",
   "execution_count": 50,
   "metadata": {},
   "outputs": [
    {
     "name": "stdout",
     "output_type": "stream",
     "text": [
      "X_trans_X shape is  (4, 4)\n"
     ]
    }
   ],
   "source": [
    "# X-transposed post-multiplied by X  using numpy's matrix multiply function (X)\n",
    "X_trans_X = np.matmul(X_trans, X_train)\n",
    "print('X_trans_X shape is ',X_trans_X.shape)"
   ]
  },
  {
   "cell_type": "code",
   "execution_count": 51,
   "metadata": {},
   "outputs": [
    {
     "name": "stdout",
     "output_type": "stream",
     "text": [
      "The shape of X_trans_X_inv is  (4, 4)\n"
     ]
    }
   ],
   "source": [
    "# Next let's find out the inverse of X_transposed postmultiplied by X transposed\n",
    "# import inverse function from numpy\n",
    "from numpy.linalg import inv\n",
    "\n",
    "X_trans_X_inv = inv(X_trans_X)\n",
    "print(\"The shape of X_trans_X_inv is \", X_trans_X_inv.shape)"
   ]
  },
  {
   "cell_type": "code",
   "execution_count": 52,
   "metadata": {},
   "outputs": [
    {
     "name": "stdout",
     "output_type": "stream",
     "text": [
      "THe shape of X_trans_X_inv_X_trans is:  (4, 10757)\n"
     ]
    }
   ],
   "source": [
    "# Next we multiply X-transposed  to inverse of X-transposed\n",
    "X_trans_X_inv_X_trans = np.matmul(X_trans_X_inv,X_trans)\n",
    "print(\"THe shape of X_trans_X_inv_X_trans is: \" , X_trans_X_inv_X_trans.shape)"
   ]
  },
  {
   "cell_type": "code",
   "execution_count": 53,
   "metadata": {},
   "outputs": [
    {
     "name": "stdout",
     "output_type": "stream",
     "text": [
      "The shape of b or coffiencents is : (4,)\n"
     ]
    }
   ],
   "source": [
    "# Finally we post multiple the (X_transposed * X-invesed)* X_transposed *  y\n",
    "b = np.matmul(X_trans_X_inv_X_trans, y_train)\n",
    "print('The shape of b or coffiencents is :' , b.shape)"
   ]
  },
  {
   "cell_type": "code",
   "execution_count": 54,
   "metadata": {},
   "outputs": [
    {
     "name": "stdout",
     "output_type": "stream",
     "text": [
      "[320.83406063   8.54918341   5.69928199  -4.97170381]\n"
     ]
    }
   ],
   "source": [
    "print(b)\n",
    "intercept_x, engine_m, cylinder_m, comb_m = b"
   ]
  },
  {
   "cell_type": "code",
   "execution_count": 78,
   "metadata": {},
   "outputs": [
    {
     "name": "stdout",
     "output_type": "stream",
     "text": [
      "-4.97\n"
     ]
    }
   ],
   "source": [
    "print(round(comb_m,2))"
   ]
  },
  {
   "cell_type": "markdown",
   "metadata": {},
   "source": [
    "Therefore we have our intercept(b) 321.0699, and slope for Engine_sie = 8.50, \n",
    "slope of cylinders = 5.56, and slope of COMB_MPG = -4.94\n",
    "\n",
    "Our equation is therefore\n",
    "\n",
    "y_hat = 312.0699 + 8.50x1+ 5.56x2+ (-4.94x3)"
   ]
  },
  {
   "cell_type": "code",
   "execution_count": 55,
   "metadata": {},
   "outputs": [],
   "source": [
    "# Predicting a car with 3.2l engine size, 6 cylinder and comb_mpg value of 28\n",
    "\n",
    "co2_pred_1 = intercept_x + engine_m * 3.21 + cylinder_m * 6 + comb_m * 28"
   ]
  },
  {
   "cell_type": "code",
   "execution_count": 56,
   "metadata": {},
   "outputs": [
    {
     "name": "stdout",
     "output_type": "stream",
     "text": [
      "The total co2 produced by such a car would be 243.2649247532006\n"
     ]
    }
   ],
   "source": [
    "print(f\"The total co2 produced by such a car would be {co2_pred_1}\")"
   ]
  },
  {
   "cell_type": "code",
   "execution_count": 57,
   "metadata": {},
   "outputs": [],
   "source": [
    "# Function for prediction\n",
    "\n",
    "def co2_predict(x):\n",
    "    x = list(x)\n",
    "    x = x[0]* intercept_x + x[1]* engine_m+ x[2]*cylinder_m+ x[3]*comb_m\n",
    "    return x"
   ]
  },
  {
   "cell_type": "code",
   "execution_count": 58,
   "metadata": {},
   "outputs": [],
   "source": [
    "X_eval = pd.DataFrame(X_test)"
   ]
  },
  {
   "cell_type": "code",
   "execution_count": 59,
   "metadata": {},
   "outputs": [
    {
     "data": {
      "text/html": [
       "<div>\n",
       "<style scoped>\n",
       "    .dataframe tbody tr th:only-of-type {\n",
       "        vertical-align: middle;\n",
       "    }\n",
       "\n",
       "    .dataframe tbody tr th {\n",
       "        vertical-align: top;\n",
       "    }\n",
       "\n",
       "    .dataframe thead th {\n",
       "        text-align: right;\n",
       "    }\n",
       "</style>\n",
       "<table border=\"1\" class=\"dataframe\">\n",
       "  <thead>\n",
       "    <tr style=\"text-align: right;\">\n",
       "      <th></th>\n",
       "      <th>0</th>\n",
       "      <th>1</th>\n",
       "      <th>2</th>\n",
       "      <th>3</th>\n",
       "    </tr>\n",
       "  </thead>\n",
       "  <tbody>\n",
       "    <tr>\n",
       "      <th>0</th>\n",
       "      <td>1.0</td>\n",
       "      <td>4.2</td>\n",
       "      <td>8.0</td>\n",
       "      <td>25.0</td>\n",
       "    </tr>\n",
       "    <tr>\n",
       "      <th>1</th>\n",
       "      <td>1.0</td>\n",
       "      <td>2.0</td>\n",
       "      <td>4.0</td>\n",
       "      <td>31.0</td>\n",
       "    </tr>\n",
       "    <tr>\n",
       "      <th>2</th>\n",
       "      <td>1.0</td>\n",
       "      <td>1.8</td>\n",
       "      <td>4.0</td>\n",
       "      <td>35.0</td>\n",
       "    </tr>\n",
       "    <tr>\n",
       "      <th>3</th>\n",
       "      <td>1.0</td>\n",
       "      <td>4.8</td>\n",
       "      <td>8.0</td>\n",
       "      <td>25.0</td>\n",
       "    </tr>\n",
       "    <tr>\n",
       "      <th>4</th>\n",
       "      <td>1.0</td>\n",
       "      <td>5.0</td>\n",
       "      <td>8.0</td>\n",
       "      <td>23.0</td>\n",
       "    </tr>\n",
       "  </tbody>\n",
       "</table>\n",
       "</div>"
      ],
      "text/plain": [
       "     0    1    2     3\n",
       "0  1.0  4.2  8.0  25.0\n",
       "1  1.0  2.0  4.0  31.0\n",
       "2  1.0  1.8  4.0  35.0\n",
       "3  1.0  4.8  8.0  25.0\n",
       "4  1.0  5.0  8.0  23.0"
      ]
     },
     "execution_count": 59,
     "metadata": {},
     "output_type": "execute_result"
    }
   ],
   "source": [
    "X_eval.head()"
   ]
  },
  {
   "cell_type": "code",
   "execution_count": 60,
   "metadata": {},
   "outputs": [],
   "source": [
    "y_hat = np.ceil(X_eval.apply(co2_predict, axis = 1))"
   ]
  },
  {
   "cell_type": "code",
   "execution_count": 61,
   "metadata": {},
   "outputs": [],
   "source": [
    "predicted_co2_test_data = pd.concat([pd.DataFrame(y_test), y_hat], axis = 1)"
   ]
  },
  {
   "cell_type": "code",
   "execution_count": 62,
   "metadata": {},
   "outputs": [],
   "source": [
    "# How apply function is actually working \n",
    "predicted_values = []\n",
    "for index, row in X_eval.iterrows():\n",
    "    predicted_values.append(np.ceil(row[0]* intercept_x +  row[1]* engine_m + row[2] * cylinder_m + row[3] * comb_m))"
   ]
  },
  {
   "cell_type": "markdown",
   "metadata": {},
   "source": [
    "Evaluating the Algereric model accuracy:\n"
   ]
  },
  {
   "cell_type": "code",
   "execution_count": 63,
   "metadata": {},
   "outputs": [
    {
     "name": "stdout",
     "output_type": "stream",
     "text": [
      "499.5674846625767 22.35100634563412\n"
     ]
    }
   ],
   "source": [
    "from sklearn.metrics import mean_squared_error, r2_score\n",
    "MSE = mean_squared_error(y_test,y_hat)\n",
    "RMSE = MSE ** 0.5\n",
    "print(MSE,RMSE)\n"
   ]
  },
  {
   "cell_type": "markdown",
   "metadata": {},
   "source": [
    "Questions:\n",
    "\n",
    "- What is Mean Square error (MSE)? What does it say ?\n",
    "- What is Root mean squared error(RMSE)? What does it say?"
   ]
  },
  {
   "cell_type": "code",
   "execution_count": 64,
   "metadata": {},
   "outputs": [
    {
     "name": "stdout",
     "output_type": "stream",
     "text": [
      "The error margin is 5.09\n",
      "The r-square score, 0.86\n"
     ]
    }
   ],
   "source": [
    "# Computing R-squared ( R-squared tells us how confident our model prediction is)\n",
    "\n",
    "# First we find the range of the target variable , y \n",
    "\n",
    "y_range = y_test.max() - y_test.min()\n",
    "\n",
    "# then we compute the RMSE as a percentage of the range of y\n",
    "error_margin = (RMSE/y_range)*100\n",
    "\n",
    "# Finding the R-squared score\n",
    "r2_scores = r2_score(y_test,y_hat)\n",
    "\n",
    "print(\"The error margin is\", format(error_margin,'.2f'))\n",
    "print(\"The r-square score,\", format(r2_scores,'.2f'))"
   ]
  },
  {
   "cell_type": "markdown",
   "metadata": {},
   "source": [
    "We can therefore say that our model is 85% confident in each of the prediction and has an error margin of just within \n",
    "4.6% range of the target variable."
   ]
  },
  {
   "cell_type": "markdown",
   "metadata": {},
   "source": [
    "### Using the sklearn library \n",
    "\n",
    "Earlier we wrote our own matrix algebra model, now let us use the existing sklearn library for the same dataset and compare the two results"
   ]
  },
  {
   "cell_type": "code",
   "execution_count": 65,
   "metadata": {},
   "outputs": [
    {
     "data": {
      "text/plain": [
       "LinearRegression(copy_X=True, fit_intercept=True, n_jobs=None, normalize=False)"
      ]
     },
     "execution_count": 65,
     "metadata": {},
     "output_type": "execute_result"
    }
   ],
   "source": [
    "# instantiate a linear regressin model\n",
    "model = LinearRegression()\n",
    "#Next train the model\n",
    "model.fit(X_train, y_train)"
   ]
  },
  {
   "cell_type": "code",
   "execution_count": 66,
   "metadata": {},
   "outputs": [
    {
     "name": "stdout",
     "output_type": "stream",
     "text": [
      "Slope[ 0.          8.54918341  5.69928199 -4.97170381], Intercept320.8340606340241\n"
     ]
    }
   ],
   "source": [
    "# printing the slope and gradients\n",
    "slope_1 = model.coef_\n",
    "intercept_1 = model.intercept_\n",
    "print(f\"Slope{slope_1}, Intercept{intercept_1}\")"
   ]
  },
  {
   "cell_type": "code",
   "execution_count": 67,
   "metadata": {},
   "outputs": [],
   "source": [
    "# Predicting the tst data set using SKlearn model\n",
    "y_pred = model.predict(X_test)"
   ]
  },
  {
   "cell_type": "code",
   "execution_count": 68,
   "metadata": {},
   "outputs": [
    {
     "name": "stdout",
     "output_type": "stream",
     "text": [
      "The error margin is 5.09\n",
      "The r-square score, 0.86\n"
     ]
    }
   ],
   "source": [
    "# Evaluate the performance of the model\n",
    "model_mse = mean_squared_error(y_test,y_pred)\n",
    "model_rmse = model_mse ** 0.5\n",
    "model_error_margin = (model_rmse/y_range) * 100\n",
    "model_r2_score = r2_score(y_test,y_pred)\n",
    "\n",
    "print(\"The error margin is\", format(model_error_margin,'.2f'))\n",
    "print(\"The r-square score,\", format(model_r2_score,'.2f'))"
   ]
  },
  {
   "cell_type": "code",
   "execution_count": 69,
   "metadata": {},
   "outputs": [
    {
     "data": {
      "text/html": [
       "<div>\n",
       "<style scoped>\n",
       "    .dataframe tbody tr th:only-of-type {\n",
       "        vertical-align: middle;\n",
       "    }\n",
       "\n",
       "    .dataframe tbody tr th {\n",
       "        vertical-align: top;\n",
       "    }\n",
       "\n",
       "    .dataframe thead th {\n",
       "        text-align: right;\n",
       "    }\n",
       "</style>\n",
       "<table border=\"1\" class=\"dataframe\">\n",
       "  <thead>\n",
       "    <tr style=\"text-align: right;\">\n",
       "      <th></th>\n",
       "      <th>algebra_mode</th>\n",
       "      <th>sklearn_model</th>\n",
       "    </tr>\n",
       "  </thead>\n",
       "  <tbody>\n",
       "    <tr>\n",
       "      <th>0</th>\n",
       "      <td>320.834061</td>\n",
       "      <td>320.834061</td>\n",
       "    </tr>\n",
       "    <tr>\n",
       "      <th>1</th>\n",
       "      <td>8.549183</td>\n",
       "      <td>8.549183</td>\n",
       "    </tr>\n",
       "    <tr>\n",
       "      <th>2</th>\n",
       "      <td>5.699282</td>\n",
       "      <td>5.699282</td>\n",
       "    </tr>\n",
       "    <tr>\n",
       "      <th>3</th>\n",
       "      <td>-4.971704</td>\n",
       "      <td>-4.971704</td>\n",
       "    </tr>\n",
       "    <tr>\n",
       "      <th>4</th>\n",
       "      <td>499.567485</td>\n",
       "      <td>498.880782</td>\n",
       "    </tr>\n",
       "    <tr>\n",
       "      <th>5</th>\n",
       "      <td>22.351006</td>\n",
       "      <td>22.335639</td>\n",
       "    </tr>\n",
       "    <tr>\n",
       "      <th>6</th>\n",
       "      <td>5.091345</td>\n",
       "      <td>5.087845</td>\n",
       "    </tr>\n",
       "    <tr>\n",
       "      <th>7</th>\n",
       "      <td>0.855715</td>\n",
       "      <td>0.855913</td>\n",
       "    </tr>\n",
       "  </tbody>\n",
       "</table>\n",
       "</div>"
      ],
      "text/plain": [
       "   algebra_mode  sklearn_model\n",
       "0    320.834061     320.834061\n",
       "1      8.549183       8.549183\n",
       "2      5.699282       5.699282\n",
       "3     -4.971704      -4.971704\n",
       "4    499.567485     498.880782\n",
       "5     22.351006      22.335639\n",
       "6      5.091345       5.087845\n",
       "7      0.855715       0.855913"
      ]
     },
     "execution_count": 69,
     "metadata": {},
     "output_type": "execute_result"
    }
   ],
   "source": [
    "# Compare the stats of the matrix algebra and sklearn models\n",
    "summary_dict = {'algebra_mode':[intercept_x, engine_m,cylinder_m,comb_m, MSE,RMSE,error_margin, r2_scores],\n",
    "               'sklearn_model':[intercept_1, slope_1[1], slope_1[2],slope_1[3],model_mse,\n",
    "                                model_rmse, model_error_margin,model_r2_score]}\n",
    "summary_df = pd.DataFrame(summary_dict)\n",
    "summary_df"
   ]
  },
  {
   "cell_type": "code",
   "execution_count": 81,
   "metadata": {},
   "outputs": [
    {
     "data": {
      "image/png": "[encoded data removed]",
      "text/plain": [
       "<Figure size 1152x432 with 2 Axes>"
      ]
     },
     "metadata": {
      "needs_background": "light"
     },
     "output_type": "display_data"
    }
   ],
   "source": [
    "# Visualization:\n",
    "# plt.figure(figsize=(10,6))\n",
    "\n",
    "fig, axs = plt.subplots(1, 2, figsize=(16, 6))\n",
    "fig.suptitle ('Plotting')\n",
    "\n",
    "sns.distplot(y_test, hist = False, label = 'Target', ax = axs[0])\n",
    "axs[0].set_title('Distplot for Target and Predicted Values')\n",
    "sns.distplot(y_hat, hist = False, label = 'Predicted values', ax = axs[0])\n",
    "\n",
    "sns.regplot(y_test,y_hat, ax = axs[1])\n",
    "axs[1].set_title('Regplot showing predictions(line of best fit) for our Matrix-Algebra model')\n",
    "plt.text(75, 500, f\"y_hat = {round(intercept_x,2)} + {round(engine_m,2)}(Engine Size) + {round(cylinder_m,2)}(Cylinder) + {round(comb_m,2)}(MPG)\")\n",
    "plt.savefig('regression.png')"
   ]
  },
  {
   "cell_type": "code",
   "execution_count": null,
   "metadata": {},
   "outputs": [],
   "source": []
  },
  {
   "cell_type": "code",
   "execution_count": 254,
   "metadata": {},
   "outputs": [],
   "source": [
    "df.to_csv('Co2_data_canada.csv')"
   ]
  },
  {
   "cell_type": "code",
   "execution_count": 262,
   "metadata": {},
   "outputs": [],
   "source": [
    "test_df = {'x': [1,2,3,4,5], 'y':[24,56,23,12,12],'z':[98,101,120,120,123]}"
   ]
  },
  {
   "cell_type": "code",
   "execution_count": 263,
   "metadata": {},
   "outputs": [],
   "source": [
    "test_df = pd.DataFrame(test_df)"
   ]
  },
  {
   "cell_type": "code",
   "execution_count": 272,
   "metadata": {},
   "outputs": [
    {
     "data": {
      "text/html": [
       "<div>\n",
       "<style scoped>\n",
       "    .dataframe tbody tr th:only-of-type {\n",
       "        vertical-align: middle;\n",
       "    }\n",
       "\n",
       "    .dataframe tbody tr th {\n",
       "        vertical-align: top;\n",
       "    }\n",
       "\n",
       "    .dataframe thead th {\n",
       "        text-align: right;\n",
       "    }\n",
       "</style>\n",
       "<table border=\"1\" class=\"dataframe\">\n",
       "  <thead>\n",
       "    <tr style=\"text-align: right;\">\n",
       "      <th></th>\n",
       "      <th>x</th>\n",
       "      <th>y</th>\n",
       "      <th>z</th>\n",
       "    </tr>\n",
       "  </thead>\n",
       "  <tbody>\n",
       "    <tr>\n",
       "      <th>0</th>\n",
       "      <td>1</td>\n",
       "      <td>24</td>\n",
       "      <td>98</td>\n",
       "    </tr>\n",
       "    <tr>\n",
       "      <th>1</th>\n",
       "      <td>2</td>\n",
       "      <td>56</td>\n",
       "      <td>101</td>\n",
       "    </tr>\n",
       "    <tr>\n",
       "      <th>2</th>\n",
       "      <td>3</td>\n",
       "      <td>23</td>\n",
       "      <td>120</td>\n",
       "    </tr>\n",
       "    <tr>\n",
       "      <th>3</th>\n",
       "      <td>4</td>\n",
       "      <td>12</td>\n",
       "      <td>120</td>\n",
       "    </tr>\n",
       "    <tr>\n",
       "      <th>4</th>\n",
       "      <td>5</td>\n",
       "      <td>12</td>\n",
       "      <td>123</td>\n",
       "    </tr>\n",
       "  </tbody>\n",
       "</table>\n",
       "</div>"
      ],
      "text/plain": [
       "   x   y    z\n",
       "0  1  24   98\n",
       "1  2  56  101\n",
       "2  3  23  120\n",
       "3  4  12  120\n",
       "4  5  12  123"
      ]
     },
     "execution_count": 272,
     "metadata": {},
     "output_type": "execute_result"
    }
   ],
   "source": [
    "test_df"
   ]
  },
  {
   "cell_type": "code",
   "execution_count": 268,
   "metadata": {},
   "outputs": [],
   "source": [
    "def sum_this(x):\n",
    "    x = list(x)\n",
    "    x[0] = x[0] + 1\n",
    "    x[1] = x[1] + 1\n",
    "    x[2] = x[2] + 1\n",
    "    return x[0],x[1],x[2]"
   ]
  },
  {
   "cell_type": "code",
   "execution_count": 271,
   "metadata": {},
   "outputs": [
    {
     "data": {
      "text/plain": [
       "0     (2, 25, 99)\n",
       "1    (3, 57, 102)\n",
       "2    (4, 24, 121)\n",
       "3    (5, 13, 121)\n",
       "4    (6, 13, 124)\n",
       "dtype: object"
      ]
     },
     "execution_count": 271,
     "metadata": {},
     "output_type": "execute_result"
    }
   ],
   "source": [
    "test_df.apply(sum_this, axis = 1)"
   ]
  },
  {
   "cell_type": "code",
   "execution_count": 275,
   "metadata": {},
   "outputs": [
    {
     "name": "stdout",
     "output_type": "stream",
     "text": [
      "2 25 99\n",
      "3 57 102\n",
      "4 24 121\n",
      "5 13 121\n",
      "6 13 124\n"
     ]
    }
   ],
   "source": [
    "for i,j in test_df.iterrows():\n",
    "    print(j[0]+1,j[1]+1,j[2]+1)"
   ]
  },
  {
   "cell_type": "code",
   "execution_count": null,
   "metadata": {},
   "outputs": [],
   "source": []
  }
 ],
 "metadata": {
  "kernelspec": {
   "display_name": "Python 3",
   "language": "python",
   "name": "python3"
  },
  "language_info": {
   "codemirror_mode": {
    "name": "ipython",
    "version": 3
   },
   "file_extension": ".py",
   "mimetype": "text/x-python",
   "name": "python",
   "nbconvert_exporter": "python",
   "pygments_lexer": "ipython3",
   "version": "3.7.3"
  }
 },
 "nbformat": 4,
 "nbformat_minor": 2
}
