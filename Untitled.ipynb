{
 "cells": [
  {
   "cell_type": "code",
   "execution_count": 100,
   "metadata": {},
   "outputs": [],
   "source": [
    "import pandas as pd\n",
    "import seaborn as sns\n",
    "import matplotlib.pyplot as plt\n",
    "# importing missingno library for visualizing missing data\n",
    "import missingno\n",
    "\n",
    "from scipy.stats.stats import pearsonr"
   ]
  },
  {
   "cell_type": "code",
   "execution_count": 78,
   "metadata": {},
   "outputs": [],
   "source": [
    "df_1 = pd.read_csv(\"schools.csv\")\n",
    "df_2 = pd.read_csv(\"teachers.csv\")\n",
    "df_3 = pd.read_csv(\"students.csv\")"
   ]
  },
  {
   "cell_type": "markdown",
   "metadata": {},
   "source": [
    "The dataset has to contain following variable columns\n",
    "\n",
    "1. District\n",
    "2. Year (2007-2011)\n",
    "3. Number of Schools\n",
    "4. Number of teachers \n",
    "5. Number of students"
   ]
  },
  {
   "cell_type": "code",
   "execution_count": 31,
   "metadata": {},
   "outputs": [],
   "source": [
    "#Drop the columns that are not required from the three data set\n",
    "df_1.drop(['Zone','Geographical Region','Development Region', 'Year BS'], axis = 1, inplace = True)\n",
    "df_2.drop(['Zone','Geographical Region','Development Region', 'Year BS'], axis = 1, inplace = True)\n",
    "df_3.drop(['Zone','Geographical Region','Development Region', 'Year BS'], axis = 1, inplace = True)"
   ]
  },
  {
   "cell_type": "code",
   "execution_count": 41,
   "metadata": {},
   "outputs": [],
   "source": [
    "\n",
    "# rename the columns of male and female as to not cause confusion with students and teachers\n",
    "df_2 = df_2.rename({'Total': 'Total Teachers','Male': 'Male Teachers', 'Female': 'Female Teachers'}, axis=1) \n",
    "df_3 = df_3.rename({'Total':'Total Students','Male': 'Male Students', 'Female': 'Female Students'}, axis=1) # new method\n"
   ]
  },
  {
   "cell_type": "code",
   "execution_count": 33,
   "metadata": {},
   "outputs": [
    {
     "data": {
      "text/html": [
       "<div>\n",
       "<style scoped>\n",
       "    .dataframe tbody tr th:only-of-type {\n",
       "        vertical-align: middle;\n",
       "    }\n",
       "\n",
       "    .dataframe tbody tr th {\n",
       "        vertical-align: top;\n",
       "    }\n",
       "\n",
       "    .dataframe thead th {\n",
       "        text-align: right;\n",
       "    }\n",
       "</style>\n",
       "<table border=\"1\" class=\"dataframe\">\n",
       "  <thead>\n",
       "    <tr style=\"text-align: right;\">\n",
       "      <th></th>\n",
       "      <th>District</th>\n",
       "      <th>Year AD</th>\n",
       "      <th>Number of Schools</th>\n",
       "    </tr>\n",
       "  </thead>\n",
       "  <tbody>\n",
       "    <tr>\n",
       "      <th>0</th>\n",
       "      <td>Bajhang</td>\n",
       "      <td>2008</td>\n",
       "      <td>398</td>\n",
       "    </tr>\n",
       "    <tr>\n",
       "      <th>1</th>\n",
       "      <td>Bajhang</td>\n",
       "      <td>2009</td>\n",
       "      <td>401</td>\n",
       "    </tr>\n",
       "    <tr>\n",
       "      <th>2</th>\n",
       "      <td>Bajhang</td>\n",
       "      <td>2010</td>\n",
       "      <td>436</td>\n",
       "    </tr>\n",
       "    <tr>\n",
       "      <th>3</th>\n",
       "      <td>Bajhang</td>\n",
       "      <td>2011</td>\n",
       "      <td>457</td>\n",
       "    </tr>\n",
       "    <tr>\n",
       "      <th>4</th>\n",
       "      <td>Bajhang</td>\n",
       "      <td>2007</td>\n",
       "      <td>373</td>\n",
       "    </tr>\n",
       "  </tbody>\n",
       "</table>\n",
       "</div>"
      ],
      "text/plain": [
       "  District  Year AD  Number of Schools\n",
       "0  Bajhang     2008                398\n",
       "1  Bajhang     2009                401\n",
       "2  Bajhang     2010                436\n",
       "3  Bajhang     2011                457\n",
       "4  Bajhang     2007                373"
      ]
     },
     "execution_count": 33,
     "metadata": {},
     "output_type": "execute_result"
    }
   ],
   "source": [
    "df_1.head()"
   ]
  },
  {
   "cell_type": "code",
   "execution_count": 42,
   "metadata": {},
   "outputs": [
    {
     "data": {
      "text/html": [
       "<div>\n",
       "<style scoped>\n",
       "    .dataframe tbody tr th:only-of-type {\n",
       "        vertical-align: middle;\n",
       "    }\n",
       "\n",
       "    .dataframe tbody tr th {\n",
       "        vertical-align: top;\n",
       "    }\n",
       "\n",
       "    .dataframe thead th {\n",
       "        text-align: right;\n",
       "    }\n",
       "</style>\n",
       "<table border=\"1\" class=\"dataframe\">\n",
       "  <thead>\n",
       "    <tr style=\"text-align: right;\">\n",
       "      <th></th>\n",
       "      <th>District</th>\n",
       "      <th>Year AD</th>\n",
       "      <th>Total Teachers</th>\n",
       "      <th>Male Teachers</th>\n",
       "      <th>Female Teachers</th>\n",
       "    </tr>\n",
       "  </thead>\n",
       "  <tbody>\n",
       "    <tr>\n",
       "      <th>0</th>\n",
       "      <td>Bajhang</td>\n",
       "      <td>2008</td>\n",
       "      <td>2011</td>\n",
       "      <td>1671</td>\n",
       "      <td>340</td>\n",
       "    </tr>\n",
       "    <tr>\n",
       "      <th>1</th>\n",
       "      <td>Bajhang</td>\n",
       "      <td>2009</td>\n",
       "      <td>2284</td>\n",
       "      <td>1840</td>\n",
       "      <td>444</td>\n",
       "    </tr>\n",
       "    <tr>\n",
       "      <th>2</th>\n",
       "      <td>Bajhang</td>\n",
       "      <td>2010</td>\n",
       "      <td>3066</td>\n",
       "      <td>2392</td>\n",
       "      <td>674</td>\n",
       "    </tr>\n",
       "    <tr>\n",
       "      <th>3</th>\n",
       "      <td>Bajhang</td>\n",
       "      <td>2011</td>\n",
       "      <td>3104</td>\n",
       "      <td>2424</td>\n",
       "      <td>680</td>\n",
       "    </tr>\n",
       "    <tr>\n",
       "      <th>4</th>\n",
       "      <td>Bajhang</td>\n",
       "      <td>2007</td>\n",
       "      <td>1875</td>\n",
       "      <td>1624</td>\n",
       "      <td>251</td>\n",
       "    </tr>\n",
       "  </tbody>\n",
       "</table>\n",
       "</div>"
      ],
      "text/plain": [
       "  District  Year AD  Total Teachers  Male Teachers  Female Teachers\n",
       "0  Bajhang     2008            2011           1671              340\n",
       "1  Bajhang     2009            2284           1840              444\n",
       "2  Bajhang     2010            3066           2392              674\n",
       "3  Bajhang     2011            3104           2424              680\n",
       "4  Bajhang     2007            1875           1624              251"
      ]
     },
     "execution_count": 42,
     "metadata": {},
     "output_type": "execute_result"
    }
   ],
   "source": [
    "df_2.head()"
   ]
  },
  {
   "cell_type": "code",
   "execution_count": 43,
   "metadata": {},
   "outputs": [
    {
     "data": {
      "text/html": [
       "<div>\n",
       "<style scoped>\n",
       "    .dataframe tbody tr th:only-of-type {\n",
       "        vertical-align: middle;\n",
       "    }\n",
       "\n",
       "    .dataframe tbody tr th {\n",
       "        vertical-align: top;\n",
       "    }\n",
       "\n",
       "    .dataframe thead th {\n",
       "        text-align: right;\n",
       "    }\n",
       "</style>\n",
       "<table border=\"1\" class=\"dataframe\">\n",
       "  <thead>\n",
       "    <tr style=\"text-align: right;\">\n",
       "      <th></th>\n",
       "      <th>District</th>\n",
       "      <th>Year AD</th>\n",
       "      <th>Total Students</th>\n",
       "      <th>Male Students</th>\n",
       "      <th>Female Students</th>\n",
       "    </tr>\n",
       "  </thead>\n",
       "  <tbody>\n",
       "    <tr>\n",
       "      <th>0</th>\n",
       "      <td>Bajhang</td>\n",
       "      <td>2008</td>\n",
       "      <td>75529</td>\n",
       "      <td>42903</td>\n",
       "      <td>32626</td>\n",
       "    </tr>\n",
       "    <tr>\n",
       "      <th>1</th>\n",
       "      <td>Bajhang</td>\n",
       "      <td>2009</td>\n",
       "      <td>77962</td>\n",
       "      <td>43116</td>\n",
       "      <td>34846</td>\n",
       "    </tr>\n",
       "    <tr>\n",
       "      <th>2</th>\n",
       "      <td>Bajhang</td>\n",
       "      <td>2010</td>\n",
       "      <td>73460</td>\n",
       "      <td>39332</td>\n",
       "      <td>34128</td>\n",
       "    </tr>\n",
       "    <tr>\n",
       "      <th>3</th>\n",
       "      <td>Bajhang</td>\n",
       "      <td>2011</td>\n",
       "      <td>75943</td>\n",
       "      <td>39719</td>\n",
       "      <td>36224</td>\n",
       "    </tr>\n",
       "    <tr>\n",
       "      <th>4</th>\n",
       "      <td>Bajhang</td>\n",
       "      <td>2007</td>\n",
       "      <td>57837</td>\n",
       "      <td>34225</td>\n",
       "      <td>23612</td>\n",
       "    </tr>\n",
       "  </tbody>\n",
       "</table>\n",
       "</div>"
      ],
      "text/plain": [
       "  District  Year AD  Total Students  Male Students  Female Students\n",
       "0  Bajhang     2008           75529          42903            32626\n",
       "1  Bajhang     2009           77962          43116            34846\n",
       "2  Bajhang     2010           73460          39332            34128\n",
       "3  Bajhang     2011           75943          39719            36224\n",
       "4  Bajhang     2007           57837          34225            23612"
      ]
     },
     "execution_count": 43,
     "metadata": {},
     "output_type": "execute_result"
    }
   ],
   "source": [
    "df_3.head()"
   ]
  },
  {
   "cell_type": "code",
   "execution_count": 44,
   "metadata": {},
   "outputs": [],
   "source": [
    "# merge the first two dataframe according to District and then year\n",
    "df = pd.merge(df_1,df_2, on = ['District','Year AD'])\n",
    "# now merge again\n",
    "df = pd.merge(df, df_3, on = ['District','Year AD'])"
   ]
  },
  {
   "cell_type": "code",
   "execution_count": 46,
   "metadata": {},
   "outputs": [
    {
     "data": {
      "text/html": [
       "<div>\n",
       "<style scoped>\n",
       "    .dataframe tbody tr th:only-of-type {\n",
       "        vertical-align: middle;\n",
       "    }\n",
       "\n",
       "    .dataframe tbody tr th {\n",
       "        vertical-align: top;\n",
       "    }\n",
       "\n",
       "    .dataframe thead th {\n",
       "        text-align: right;\n",
       "    }\n",
       "</style>\n",
       "<table border=\"1\" class=\"dataframe\">\n",
       "  <thead>\n",
       "    <tr style=\"text-align: right;\">\n",
       "      <th></th>\n",
       "      <th>District</th>\n",
       "      <th>Year AD</th>\n",
       "      <th>Number of Schools</th>\n",
       "      <th>Total Teachers</th>\n",
       "      <th>Male Teachers</th>\n",
       "      <th>Female Teachers</th>\n",
       "      <th>Total Students</th>\n",
       "      <th>Male Students</th>\n",
       "      <th>Female Students</th>\n",
       "    </tr>\n",
       "  </thead>\n",
       "  <tbody>\n",
       "    <tr>\n",
       "      <th>0</th>\n",
       "      <td>Bajhang</td>\n",
       "      <td>2008</td>\n",
       "      <td>398</td>\n",
       "      <td>2011</td>\n",
       "      <td>1671</td>\n",
       "      <td>340</td>\n",
       "      <td>75529</td>\n",
       "      <td>42903</td>\n",
       "      <td>32626</td>\n",
       "    </tr>\n",
       "    <tr>\n",
       "      <th>1</th>\n",
       "      <td>Bajhang</td>\n",
       "      <td>2009</td>\n",
       "      <td>401</td>\n",
       "      <td>2284</td>\n",
       "      <td>1840</td>\n",
       "      <td>444</td>\n",
       "      <td>77962</td>\n",
       "      <td>43116</td>\n",
       "      <td>34846</td>\n",
       "    </tr>\n",
       "    <tr>\n",
       "      <th>2</th>\n",
       "      <td>Bajhang</td>\n",
       "      <td>2010</td>\n",
       "      <td>436</td>\n",
       "      <td>3066</td>\n",
       "      <td>2392</td>\n",
       "      <td>674</td>\n",
       "      <td>73460</td>\n",
       "      <td>39332</td>\n",
       "      <td>34128</td>\n",
       "    </tr>\n",
       "    <tr>\n",
       "      <th>3</th>\n",
       "      <td>Bajhang</td>\n",
       "      <td>2011</td>\n",
       "      <td>457</td>\n",
       "      <td>3104</td>\n",
       "      <td>2424</td>\n",
       "      <td>680</td>\n",
       "      <td>75943</td>\n",
       "      <td>39719</td>\n",
       "      <td>36224</td>\n",
       "    </tr>\n",
       "    <tr>\n",
       "      <th>4</th>\n",
       "      <td>Bajhang</td>\n",
       "      <td>2007</td>\n",
       "      <td>373</td>\n",
       "      <td>1875</td>\n",
       "      <td>1624</td>\n",
       "      <td>251</td>\n",
       "      <td>57837</td>\n",
       "      <td>34225</td>\n",
       "      <td>23612</td>\n",
       "    </tr>\n",
       "  </tbody>\n",
       "</table>\n",
       "</div>"
      ],
      "text/plain": [
       "  District  Year AD  Number of Schools  Total Teachers  Male Teachers  \\\n",
       "0  Bajhang     2008                398            2011           1671   \n",
       "1  Bajhang     2009                401            2284           1840   \n",
       "2  Bajhang     2010                436            3066           2392   \n",
       "3  Bajhang     2011                457            3104           2424   \n",
       "4  Bajhang     2007                373            1875           1624   \n",
       "\n",
       "   Female Teachers  Total Students  Male Students  Female Students  \n",
       "0              340           75529          42903            32626  \n",
       "1              444           77962          43116            34846  \n",
       "2              674           73460          39332            34128  \n",
       "3              680           75943          39719            36224  \n",
       "4              251           57837          34225            23612  "
      ]
     },
     "execution_count": 46,
     "metadata": {},
     "output_type": "execute_result"
    }
   ],
   "source": [
    "df.head()"
   ]
  },
  {
   "cell_type": "markdown",
   "metadata": {},
   "source": [
    "I am starting with the hypothesis that\n",
    "\n",
    "Ho = Increase in number of school increses the number of teachers\n",
    "\n",
    "H1 = Increase in number of school does not increase the number of teachers\n",
    "\n",
    "and \n",
    "\n",
    "Ho = Increase in number of students means increase in number of teachers\n",
    "\n",
    "H1 = Increase in number of students does not increase the number of teachers\n",
    "\n"
   ]
  },
  {
   "cell_type": "code",
   "execution_count": 48,
   "metadata": {},
   "outputs": [
    {
     "data": {
      "text/html": [
       "<div>\n",
       "<style scoped>\n",
       "    .dataframe tbody tr th:only-of-type {\n",
       "        vertical-align: middle;\n",
       "    }\n",
       "\n",
       "    .dataframe tbody tr th {\n",
       "        vertical-align: top;\n",
       "    }\n",
       "\n",
       "    .dataframe thead th {\n",
       "        text-align: right;\n",
       "    }\n",
       "</style>\n",
       "<table border=\"1\" class=\"dataframe\">\n",
       "  <thead>\n",
       "    <tr style=\"text-align: right;\">\n",
       "      <th></th>\n",
       "      <th>Year AD</th>\n",
       "      <th>Number of Schools</th>\n",
       "      <th>Total Teachers</th>\n",
       "      <th>Male Teachers</th>\n",
       "      <th>Female Teachers</th>\n",
       "      <th>Total Students</th>\n",
       "      <th>Male Students</th>\n",
       "      <th>Female Students</th>\n",
       "    </tr>\n",
       "  </thead>\n",
       "  <tbody>\n",
       "    <tr>\n",
       "      <th>count</th>\n",
       "      <td>375.000000</td>\n",
       "      <td>375.000000</td>\n",
       "      <td>375.000000</td>\n",
       "      <td>375.000000</td>\n",
       "      <td>375.000000</td>\n",
       "      <td>375.000000</td>\n",
       "      <td>375.000000</td>\n",
       "      <td>375.000000</td>\n",
       "    </tr>\n",
       "    <tr>\n",
       "      <th>mean</th>\n",
       "      <td>2009.000000</td>\n",
       "      <td>427.346667</td>\n",
       "      <td>2936.570667</td>\n",
       "      <td>1937.845333</td>\n",
       "      <td>998.725333</td>\n",
       "      <td>95203.480000</td>\n",
       "      <td>48097.194667</td>\n",
       "      <td>47106.336000</td>\n",
       "    </tr>\n",
       "    <tr>\n",
       "      <th>std</th>\n",
       "      <td>1.416103</td>\n",
       "      <td>184.725298</td>\n",
       "      <td>2305.984100</td>\n",
       "      <td>1133.628891</td>\n",
       "      <td>1255.523104</td>\n",
       "      <td>56370.855778</td>\n",
       "      <td>28762.813787</td>\n",
       "      <td>27773.925091</td>\n",
       "    </tr>\n",
       "    <tr>\n",
       "      <th>min</th>\n",
       "      <td>2007.000000</td>\n",
       "      <td>32.000000</td>\n",
       "      <td>161.000000</td>\n",
       "      <td>137.000000</td>\n",
       "      <td>24.000000</td>\n",
       "      <td>885.000000</td>\n",
       "      <td>404.000000</td>\n",
       "      <td>461.000000</td>\n",
       "    </tr>\n",
       "    <tr>\n",
       "      <th>25%</th>\n",
       "      <td>2008.000000</td>\n",
       "      <td>338.500000</td>\n",
       "      <td>1708.000000</td>\n",
       "      <td>1295.000000</td>\n",
       "      <td>416.000000</td>\n",
       "      <td>56630.000000</td>\n",
       "      <td>28439.500000</td>\n",
       "      <td>27534.000000</td>\n",
       "    </tr>\n",
       "    <tr>\n",
       "      <th>50%</th>\n",
       "      <td>2009.000000</td>\n",
       "      <td>415.000000</td>\n",
       "      <td>2361.000000</td>\n",
       "      <td>1731.000000</td>\n",
       "      <td>685.000000</td>\n",
       "      <td>86926.000000</td>\n",
       "      <td>42903.000000</td>\n",
       "      <td>43939.000000</td>\n",
       "    </tr>\n",
       "    <tr>\n",
       "      <th>75%</th>\n",
       "      <td>2010.000000</td>\n",
       "      <td>515.000000</td>\n",
       "      <td>3484.000000</td>\n",
       "      <td>2401.500000</td>\n",
       "      <td>1188.000000</td>\n",
       "      <td>126423.500000</td>\n",
       "      <td>63724.000000</td>\n",
       "      <td>61686.500000</td>\n",
       "    </tr>\n",
       "    <tr>\n",
       "      <th>max</th>\n",
       "      <td>2011.000000</td>\n",
       "      <td>1370.000000</td>\n",
       "      <td>18501.000000</td>\n",
       "      <td>7639.000000</td>\n",
       "      <td>10862.000000</td>\n",
       "      <td>337238.000000</td>\n",
       "      <td>174711.000000</td>\n",
       "      <td>162527.000000</td>\n",
       "    </tr>\n",
       "  </tbody>\n",
       "</table>\n",
       "</div>"
      ],
      "text/plain": [
       "           Year AD  Number of Schools  Total Teachers  Male Teachers  \\\n",
       "count   375.000000         375.000000      375.000000     375.000000   \n",
       "mean   2009.000000         427.346667     2936.570667    1937.845333   \n",
       "std       1.416103         184.725298     2305.984100    1133.628891   \n",
       "min    2007.000000          32.000000      161.000000     137.000000   \n",
       "25%    2008.000000         338.500000     1708.000000    1295.000000   \n",
       "50%    2009.000000         415.000000     2361.000000    1731.000000   \n",
       "75%    2010.000000         515.000000     3484.000000    2401.500000   \n",
       "max    2011.000000        1370.000000    18501.000000    7639.000000   \n",
       "\n",
       "       Female Teachers  Total Students  Male Students  Female Students  \n",
       "count       375.000000      375.000000     375.000000       375.000000  \n",
       "mean        998.725333    95203.480000   48097.194667     47106.336000  \n",
       "std        1255.523104    56370.855778   28762.813787     27773.925091  \n",
       "min          24.000000      885.000000     404.000000       461.000000  \n",
       "25%         416.000000    56630.000000   28439.500000     27534.000000  \n",
       "50%         685.000000    86926.000000   42903.000000     43939.000000  \n",
       "75%        1188.000000   126423.500000   63724.000000     61686.500000  \n",
       "max       10862.000000   337238.000000  174711.000000    162527.000000  "
      ]
     },
     "execution_count": 48,
     "metadata": {},
     "output_type": "execute_result"
    }
   ],
   "source": [
    "df.describe()"
   ]
  },
  {
   "cell_type": "code",
   "execution_count": 54,
   "metadata": {},
   "outputs": [
    {
     "data": {
      "text/plain": [
       "<matplotlib.axes._subplots.AxesSubplot at 0x1a1f56d908>"
      ]
     },
     "execution_count": 54,
     "metadata": {},
     "output_type": "execute_result"
    },
    {
     "data": {
      "image/png": "[encoded data removed]",
      "text/plain": [
       "<Figure size 720x360 with 2 Axes>"
      ]
     },
     "metadata": {
      "needs_background": "light"
     },
     "output_type": "display_data"
    }
   ],
   "source": [
    "# Are there any missing data? Visualizing this\n",
    "missingno.matrix(df,figsize=(10,5))"
   ]
  },
  {
   "cell_type": "code",
   "execution_count": 89,
   "metadata": {},
   "outputs": [],
   "source": [
    "# only get Kathmandu's data\n",
    "df_ktm = df[df.District == 'Kathmandu'].sort_values(by = 'Year AD', ascending = True)\n"
   ]
  },
  {
   "cell_type": "code",
   "execution_count": 90,
   "metadata": {},
   "outputs": [
    {
     "data": {
      "text/html": [
       "<div>\n",
       "<style scoped>\n",
       "    .dataframe tbody tr th:only-of-type {\n",
       "        vertical-align: middle;\n",
       "    }\n",
       "\n",
       "    .dataframe tbody tr th {\n",
       "        vertical-align: top;\n",
       "    }\n",
       "\n",
       "    .dataframe thead th {\n",
       "        text-align: right;\n",
       "    }\n",
       "</style>\n",
       "<table border=\"1\" class=\"dataframe\">\n",
       "  <thead>\n",
       "    <tr style=\"text-align: right;\">\n",
       "      <th></th>\n",
       "      <th>District</th>\n",
       "      <th>Year AD</th>\n",
       "      <th>Number of Schools</th>\n",
       "      <th>Total Teachers</th>\n",
       "      <th>Male Teachers</th>\n",
       "      <th>Female Teachers</th>\n",
       "      <th>Total Students</th>\n",
       "      <th>Male Students</th>\n",
       "      <th>Female Students</th>\n",
       "    </tr>\n",
       "  </thead>\n",
       "  <tbody>\n",
       "    <tr>\n",
       "      <th>54</th>\n",
       "      <td>Kathmandu</td>\n",
       "      <td>2007</td>\n",
       "      <td>1298</td>\n",
       "      <td>10894</td>\n",
       "      <td>5099</td>\n",
       "      <td>5795</td>\n",
       "      <td>295202</td>\n",
       "      <td>153592</td>\n",
       "      <td>141610</td>\n",
       "    </tr>\n",
       "    <tr>\n",
       "      <th>50</th>\n",
       "      <td>Kathmandu</td>\n",
       "      <td>2008</td>\n",
       "      <td>1298</td>\n",
       "      <td>18501</td>\n",
       "      <td>7639</td>\n",
       "      <td>10862</td>\n",
       "      <td>282335</td>\n",
       "      <td>145518</td>\n",
       "      <td>136817</td>\n",
       "    </tr>\n",
       "    <tr>\n",
       "      <th>51</th>\n",
       "      <td>Kathmandu</td>\n",
       "      <td>2009</td>\n",
       "      <td>1370</td>\n",
       "      <td>18501</td>\n",
       "      <td>7639</td>\n",
       "      <td>10862</td>\n",
       "      <td>337238</td>\n",
       "      <td>174711</td>\n",
       "      <td>162527</td>\n",
       "    </tr>\n",
       "    <tr>\n",
       "      <th>52</th>\n",
       "      <td>Kathmandu</td>\n",
       "      <td>2010</td>\n",
       "      <td>1370</td>\n",
       "      <td>18018</td>\n",
       "      <td>7316</td>\n",
       "      <td>10702</td>\n",
       "      <td>314720</td>\n",
       "      <td>161970</td>\n",
       "      <td>152750</td>\n",
       "    </tr>\n",
       "    <tr>\n",
       "      <th>53</th>\n",
       "      <td>Kathmandu</td>\n",
       "      <td>2011</td>\n",
       "      <td>1370</td>\n",
       "      <td>18018</td>\n",
       "      <td>7316</td>\n",
       "      <td>10702</td>\n",
       "      <td>332232</td>\n",
       "      <td>171047</td>\n",
       "      <td>161185</td>\n",
       "    </tr>\n",
       "  </tbody>\n",
       "</table>\n",
       "</div>"
      ],
      "text/plain": [
       "     District  Year AD  Number of Schools  Total Teachers  Male Teachers  \\\n",
       "54  Kathmandu     2007               1298           10894           5099   \n",
       "50  Kathmandu     2008               1298           18501           7639   \n",
       "51  Kathmandu     2009               1370           18501           7639   \n",
       "52  Kathmandu     2010               1370           18018           7316   \n",
       "53  Kathmandu     2011               1370           18018           7316   \n",
       "\n",
       "    Female Teachers  Total Students  Male Students  Female Students  \n",
       "54             5795          295202         153592           141610  \n",
       "50            10862          282335         145518           136817  \n",
       "51            10862          337238         174711           162527  \n",
       "52            10702          314720         161970           152750  \n",
       "53            10702          332232         171047           161185  "
      ]
     },
     "execution_count": 90,
     "metadata": {},
     "output_type": "execute_result"
    }
   ],
   "source": [
    "df_ktm"
   ]
  },
  {
   "cell_type": "code",
   "execution_count": 95,
   "metadata": {},
   "outputs": [
    {
     "data": {
      "text/plain": [
       "<matplotlib.collections.PathCollection at 0x1a224d55c0>"
      ]
     },
     "execution_count": 95,
     "metadata": {},
     "output_type": "execute_result"
    },
    {
     "data": {
      "image/png": "[encoded data removed]",
      "text/plain": [
       "<Figure size 432x288 with 1 Axes>"
      ]
     },
     "metadata": {
      "needs_background": "light"
     },
     "output_type": "display_data"
    }
   ],
   "source": [
    "#look at the yearly relationship between number of school and teachers\n",
    "plt.scatter(df_ktm['Total Teachers'], df_ktm['Total Students'])"
   ]
  },
  {
   "cell_type": "code",
   "execution_count": 99,
   "metadata": {},
   "outputs": [
    {
     "data": {
      "text/plain": [
       "<matplotlib.axes._subplots.AxesSubplot at 0x1a22e4dbe0>"
      ]
     },
     "execution_count": 99,
     "metadata": {},
     "output_type": "execute_result"
    },
    {
     "data": {
      "image/png": "[encoded data removed]",
      "text/plain": [
       "<Figure size 720x576 with 2 Axes>"
      ]
     },
     "metadata": {
      "needs_background": "light"
     },
     "output_type": "display_data"
    }
   ],
   "source": [
    "#correration matrix\n",
    "corrmat = df.corr()\n",
    "f, ax = plt.subplots(figsize=(10,8))\n",
    "# sns.heatmap(corrmat,vmax=1, square=True\n",
    "sns.heatmap(corrmat, cbar=True, annot=True, square=True, fmt='.2f', annot_kws={'size': 10})"
   ]
  },
  {
   "cell_type": "code",
   "execution_count": 107,
   "metadata": {},
   "outputs": [],
   "source": [
    "# See the correlation between Number of schools and Number of total teachers\n",
    "rvalue, pval = pearsonr(df['Number of Schools'], df['Total Teachers'])"
   ]
  },
  {
   "cell_type": "code",
   "execution_count": 108,
   "metadata": {},
   "outputs": [
    {
     "data": {
      "text/plain": [
       "(0.8601750080226738, 4.019314758379791e-111)"
      ]
     },
     "execution_count": 108,
     "metadata": {},
     "output_type": "execute_result"
    }
   ],
   "source": [
    "rvalue, pval"
   ]
  },
  {
   "cell_type": "code",
   "execution_count": 106,
   "metadata": {},
   "outputs": [
    {
     "name": "stdout",
     "output_type": "stream",
     "text": [
      "Help on function pearsonr in module scipy.stats.stats:\n",
      "\n",
      "pearsonr(x, y)\n",
      "    Pearson correlation coefficient and p-value for testing non-correlation.\n",
      "    \n",
      "    The Pearson correlation coefficient [1]_ measures the linear relationship\n",
      "    between two datasets.  The calculation of the p-value relies on the\n",
      "    assumption that each dataset is normally distributed.  (See Kowalski [3]_\n",
      "    for a discussion of the effects of non-normality of the input on the\n",
      "    distribution of the correlation coefficient.)  Like other correlation\n",
      "    coefficients, this one varies between -1 and +1 with 0 implying no\n",
      "    correlation. Correlations of -1 or +1 imply an exact linear relationship.\n",
      "    Positive correlations imply that as x increases, so does y. Negative\n",
      "    correlations imply that as x increases, y decreases.\n",
      "    \n",
      "    The p-value roughly indicates the probability of an uncorrelated system\n",
      "    producing datasets that have a Pearson correlation at least as extreme\n",
      "    as the one computed from these datasets.\n",
      "    \n",
      "    Parameters\n",
      "    ----------\n",
      "    x : (N,) array_like\n",
      "        Input\n",
      "    y : (N,) array_like\n",
      "        Input\n",
      "    \n",
      "    Returns\n",
      "    -------\n",
      "    r : float\n",
      "        Pearson's correlation coefficient\n",
      "    p-value : float\n",
      "        two-tailed p-value\n",
      "    \n",
      "    Warns\n",
      "    -----\n",
      "    PearsonRConstantInputWarning\n",
      "        Raised if an input is a constant array.  The correlation coefficient\n",
      "        is not defined in this case, so ``np.nan`` is returned.\n",
      "    \n",
      "    PearsonRNearConstantInputWarning\n",
      "        Raised if an input is \"nearly\" constant.  The array ``x`` is considered\n",
      "        nearly constant if ``norm(x - mean(x)) < 1e-13 * abs(mean(x))``.\n",
      "        Numerical errors in the calculation ``x - mean(x)`` in this case might\n",
      "        result in an inaccurate calculation of r.\n",
      "    \n",
      "    See Also\n",
      "    --------\n",
      "    spearmanr : Spearman rank-order correlation coefficient.\n",
      "    kendalltau : Kendall's tau, a correlation measure for ordinal data.\n",
      "    \n",
      "    Notes\n",
      "    -----\n",
      "    \n",
      "    The correlation coefficient is calculated as follows:\n",
      "    \n",
      "    .. math::\n",
      "    \n",
      "        r = \\frac{\\sum (x - m_x) (y - m_y)}\n",
      "                 {\\sqrt{\\sum (x - m_x)^2 \\sum (y - m_y)^2}}\n",
      "    \n",
      "    where :math:`m_x` is the mean of the vector :math:`x` and :math:`m_y` is\n",
      "    the mean of the vector :math:`y`.\n",
      "    \n",
      "    Under the assumption that x and y are drawn from independent normal\n",
      "    distributions (so the population correlation coefficient is 0), the\n",
      "    probability density function of the sample correlation coefficient r\n",
      "    is ([1]_, [2]_)::\n",
      "    \n",
      "               (1 - r**2)**(n/2 - 2)\n",
      "        f(r) = ---------------------\n",
      "                  B(1/2, n/2 - 1)\n",
      "    \n",
      "    where n is the number of samples, and B is the beta function.  This\n",
      "    is sometimes referred to as the exact distribution of r.  This is\n",
      "    the distribution that is used in `pearsonr` to compute the p-value.\n",
      "    The distribution is a beta distribution on the interval [-1, 1],\n",
      "    with equal shape parameters a = b = n/2 - 1.  In terms of SciPy's\n",
      "    implementation of the beta distribution, the distribution of r is::\n",
      "    \n",
      "        dist = scipy.stats.beta(n/2 - 1, n/2 - 1, loc=-1, scale=2)\n",
      "    \n",
      "    The p-value returned by `pearsonr` is a two-sided p-value.  For a\n",
      "    given sample with correlation coefficient r, the p-value is\n",
      "    the probability that abs(r') of a random sample x' and y' drawn from\n",
      "    the population with zero correlation would be greater than or equal\n",
      "    to abs(r).  In terms of the object `dist` shown above, the p-value\n",
      "    for a given r and length n can be computed as::\n",
      "    \n",
      "        p = 2*dist.cdf(-abs(r))\n",
      "    \n",
      "    When n is 2, the above continuous distribution is not well-defined.\n",
      "    One can interpret the limit of the beta distribution as the shape\n",
      "    parameters a and b approach a = b = 0 as a discrete distribution with\n",
      "    equal probability masses at r = 1 and r = -1.  More directly, one\n",
      "    can observe that, given the data x = [x1, x2] and y = [y1, y2], and\n",
      "    assuming x1 != x2 and y1 != y2, the only possible values for r are 1\n",
      "    and -1.  Because abs(r') for any sample x' and y' with length 2 will\n",
      "    be 1, the two-sided p-value for a sample of length 2 is always 1.\n",
      "    \n",
      "    References\n",
      "    ----------\n",
      "    .. [1] \"Pearson correlation coefficient\", Wikipedia,\n",
      "           https://en.wikipedia.org/wiki/Pearson_correlation_coefficient\n",
      "    .. [2] Student, \"Probable error of a correlation coefficient\",\n",
      "           Biometrika, Volume 6, Issue 2-3, 1 September 1908, pp. 302-310.\n",
      "    .. [3] C. J. Kowalski, \"On the Effects of Non-Normality on the Distribution\n",
      "           of the Sample Product-Moment Correlation Coefficient\"\n",
      "           Journal of the Royal Statistical Society. Series C (Applied\n",
      "           Statistics), Vol. 21, No. 1 (1972), pp. 1-12.\n",
      "    \n",
      "    Examples\n",
      "    --------\n",
      "    >>> from scipy import stats\n",
      "    >>> a = np.array([0, 0, 0, 1, 1, 1, 1])\n",
      "    >>> b = np.arange(7)\n",
      "    >>> stats.pearsonr(a, b)\n",
      "    (0.8660254037844386, 0.011724811003954649)\n",
      "    \n",
      "    >>> stats.pearsonr([1, 2, 3, 4, 5], [10, 9, 2.5, 6, 4])\n",
      "    (-0.7426106572325057, 0.1505558088534455)\n",
      "\n"
     ]
    }
   ],
   "source": []
  },
  {
   "cell_type": "code",
   "execution_count": 109,
   "metadata": {},
   "outputs": [],
   "source": [
    "import scipy.stats as stats\n",
    "slope,intercept,rval,pval, stderr = stats.linregress(df['Number of Schools'],df['Total Teachers'])"
   ]
  },
  {
   "cell_type": "code",
   "execution_count": 114,
   "metadata": {},
   "outputs": [],
   "source": [
    "regression_line = []\n",
    "for i in df['Number of Schools']:\n",
    "#     print(i)\n",
    "    regression_line.append((slope*i)+ intercept)"
   ]
  },
  {
   "cell_type": "code",
   "execution_count": 116,
   "metadata": {},
   "outputs": [
    {
     "data": {
      "text/plain": [
       "[<matplotlib.lines.Line2D at 0x1a23fcffd0>]"
      ]
     },
     "execution_count": 116,
     "metadata": {},
     "output_type": "execute_result"
    },
    {
     "data": {
      "image/png": "[encoded data removed]",
      "text/plain": [
       "<Figure size 432x288 with 1 Axes>"
      ]
     },
     "metadata": {
      "needs_background": "light"
     },
     "output_type": "display_data"
    }
   ],
   "source": [
    "#look at the yearly relationship between number of school and teachers\n",
    "plt.scatter(df['Number of Schools'], df['Total Teachers'])\n",
    "plt.plot(df['Number of Schools'],regression_line)"
   ]
  },
  {
   "cell_type": "code",
   "execution_count": 120,
   "metadata": {},
   "outputs": [
    {
     "data": {
      "text/plain": [
       "52036.970723610866"
      ]
     },
     "execution_count": 120,
     "metadata": {},
     "output_type": "execute_result"
    }
   ],
   "source": [
    "(5000*slope + intercept)"
   ]
  },
  {
   "cell_type": "code",
   "execution_count": null,
   "metadata": {},
   "outputs": [],
   "source": []
  }
 ],
 "metadata": {
  "kernelspec": {
   "display_name": "Python 3",
   "language": "python",
   "name": "python3"
  },
  "language_info": {
   "codemirror_mode": {
    "name": "ipython",
    "version": 3
   },
   "file_extension": ".py",
   "mimetype": "text/x-python",
   "name": "python",
   "nbconvert_exporter": "python",
   "pygments_lexer": "ipython3",
   "version": "3.7.3"
  }
 },
 "nbformat": 4,
 "nbformat_minor": 2
}
