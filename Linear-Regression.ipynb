{
 "cells": [
  {
   "cell_type": "code",
   "execution_count": 100,
   "metadata": {},
   "outputs": [],
   "source": [
    "import pandas as pd\n",
    "import seaborn as sns\n",
    "import matplotlib.pyplot as plt\n"
   ]
  },
  {
   "cell_type": "code",
   "execution_count": 109,
   "metadata": {},
   "outputs": [],
   "source": [
    "df = pd.read_csv(\"coffee_data.csv\")"
   ]
  },
  {
   "cell_type": "code",
   "execution_count": 113,
   "metadata": {},
   "outputs": [
    {
     "data": {
      "text/html": [
       "<div>\n",
       "<style scoped>\n",
       "    .dataframe tbody tr th:only-of-type {\n",
       "        vertical-align: middle;\n",
       "    }\n",
       "\n",
       "    .dataframe tbody tr th {\n",
       "        vertical-align: top;\n",
       "    }\n",
       "\n",
       "    .dataframe thead th {\n",
       "        text-align: right;\n",
       "    }\n",
       "</style>\n",
       "<table border=\"1\" class=\"dataframe\">\n",
       "  <thead>\n",
       "    <tr style=\"text-align: right;\">\n",
       "      <th></th>\n",
       "      <th>Districts</th>\n",
       "      <th>Total-Area(Ha)</th>\n",
       "      <th>Production(MT)</th>\n",
       "      <th>Yield(Kg/Ha)</th>\n",
       "      <th>Farmers</th>\n",
       "    </tr>\n",
       "  </thead>\n",
       "  <tbody>\n",
       "    <tr>\n",
       "      <th>0</th>\n",
       "      <td>Arghakhachi</td>\n",
       "      <td>131</td>\n",
       "      <td>29</td>\n",
       "      <td>221</td>\n",
       "      <td>1656</td>\n",
       "    </tr>\n",
       "    <tr>\n",
       "      <th>1</th>\n",
       "      <td>Baglung</td>\n",
       "      <td>62</td>\n",
       "      <td>15</td>\n",
       "      <td>242</td>\n",
       "      <td>1338</td>\n",
       "    </tr>\n",
       "    <tr>\n",
       "      <th>2</th>\n",
       "      <td>Bhojpur</td>\n",
       "      <td>15</td>\n",
       "      <td>2</td>\n",
       "      <td>133</td>\n",
       "      <td>162</td>\n",
       "    </tr>\n",
       "    <tr>\n",
       "      <th>3</th>\n",
       "      <td>Dhading</td>\n",
       "      <td>71</td>\n",
       "      <td>15</td>\n",
       "      <td>211</td>\n",
       "      <td>728</td>\n",
       "    </tr>\n",
       "    <tr>\n",
       "      <th>4</th>\n",
       "      <td>Gorkha</td>\n",
       "      <td>33</td>\n",
       "      <td>5</td>\n",
       "      <td>152</td>\n",
       "      <td>741</td>\n",
       "    </tr>\n",
       "  </tbody>\n",
       "</table>\n",
       "</div>"
      ],
      "text/plain": [
       "     Districts  Total-Area(Ha)  Production(MT)  Yield(Kg/Ha)  Farmers\n",
       "0  Arghakhachi             131              29           221     1656\n",
       "1      Baglung              62              15           242     1338\n",
       "2      Bhojpur              15               2           133      162\n",
       "3      Dhading              71              15           211      728\n",
       "4       Gorkha              33               5           152      741"
      ]
     },
     "execution_count": 113,
     "metadata": {},
     "output_type": "execute_result"
    }
   ],
   "source": [
    "# Take a look at the data\n",
    "df.head()"
   ]
  },
  {
   "cell_type": "code",
   "execution_count": 111,
   "metadata": {},
   "outputs": [],
   "source": [
    "# Drop un-necessary columns\n",
    "df = df.drop(['_id','S.N'], axis = 1)\n",
    "df = df.drop([24])\n",
    "#rename columns to something easy\n",
    "df.columns = ['Districts','Total-Area(Ha)', 'Production(MT)','Yield(Kg/Ha)','Farmers']"
   ]
  },
  {
   "cell_type": "code",
   "execution_count": 114,
   "metadata": {},
   "outputs": [
    {
     "data": {
      "text/html": [
       "<div>\n",
       "<style scoped>\n",
       "    .dataframe tbody tr th:only-of-type {\n",
       "        vertical-align: middle;\n",
       "    }\n",
       "\n",
       "    .dataframe tbody tr th {\n",
       "        vertical-align: top;\n",
       "    }\n",
       "\n",
       "    .dataframe thead th {\n",
       "        text-align: right;\n",
       "    }\n",
       "</style>\n",
       "<table border=\"1\" class=\"dataframe\">\n",
       "  <thead>\n",
       "    <tr style=\"text-align: right;\">\n",
       "      <th></th>\n",
       "      <th>Total-Area(Ha)</th>\n",
       "      <th>Production(MT)</th>\n",
       "      <th>Yield(Kg/Ha)</th>\n",
       "      <th>Farmers</th>\n",
       "    </tr>\n",
       "  </thead>\n",
       "  <tbody>\n",
       "    <tr>\n",
       "      <th>count</th>\n",
       "      <td>25.000000</td>\n",
       "      <td>25.000000</td>\n",
       "      <td>25.0000</td>\n",
       "      <td>25.000000</td>\n",
       "    </tr>\n",
       "    <tr>\n",
       "      <th>mean</th>\n",
       "      <td>202.640000</td>\n",
       "      <td>40.720000</td>\n",
       "      <td>256.6000</td>\n",
       "      <td>2570.080000</td>\n",
       "    </tr>\n",
       "    <tr>\n",
       "      <th>std</th>\n",
       "      <td>509.244201</td>\n",
       "      <td>102.928988</td>\n",
       "      <td>192.6547</td>\n",
       "      <td>6337.776233</td>\n",
       "    </tr>\n",
       "    <tr>\n",
       "      <th>min</th>\n",
       "      <td>15.000000</td>\n",
       "      <td>2.000000</td>\n",
       "      <td>77.0000</td>\n",
       "      <td>162.000000</td>\n",
       "    </tr>\n",
       "    <tr>\n",
       "      <th>25%</th>\n",
       "      <td>33.000000</td>\n",
       "      <td>12.000000</td>\n",
       "      <td>174.0000</td>\n",
       "      <td>621.000000</td>\n",
       "    </tr>\n",
       "    <tr>\n",
       "      <th>50%</th>\n",
       "      <td>92.000000</td>\n",
       "      <td>19.000000</td>\n",
       "      <td>215.0000</td>\n",
       "      <td>980.000000</td>\n",
       "    </tr>\n",
       "    <tr>\n",
       "      <th>75%</th>\n",
       "      <td>146.000000</td>\n",
       "      <td>30.000000</td>\n",
       "      <td>252.0000</td>\n",
       "      <td>1789.000000</td>\n",
       "    </tr>\n",
       "    <tr>\n",
       "      <th>max</th>\n",
       "      <td>2618.000000</td>\n",
       "      <td>532.000000</td>\n",
       "      <td>1107.0000</td>\n",
       "      <td>32581.000000</td>\n",
       "    </tr>\n",
       "  </tbody>\n",
       "</table>\n",
       "</div>"
      ],
      "text/plain": [
       "       Total-Area(Ha)  Production(MT)  Yield(Kg/Ha)       Farmers\n",
       "count       25.000000       25.000000       25.0000     25.000000\n",
       "mean       202.640000       40.720000      256.6000   2570.080000\n",
       "std        509.244201      102.928988      192.6547   6337.776233\n",
       "min         15.000000        2.000000       77.0000    162.000000\n",
       "25%         33.000000       12.000000      174.0000    621.000000\n",
       "50%         92.000000       19.000000      215.0000    980.000000\n",
       "75%        146.000000       30.000000      252.0000   1789.000000\n",
       "max       2618.000000      532.000000     1107.0000  32581.000000"
      ]
     },
     "execution_count": 114,
     "metadata": {},
     "output_type": "execute_result"
    }
   ],
   "source": [
    "# Descriptive statistics\n",
    "df.describe()"
   ]
  },
  {
   "cell_type": "markdown",
   "metadata": {},
   "source": [
    "\n",
    "1. Question 1 : Increase in area increases the total production\n",
    "2. Question 2 : Larger the area , more number of farmers are required\n",
    "3. Question 3 : More Farmers mean more increase in yeild per hectare\n"
   ]
  },
  {
   "cell_type": "code",
   "execution_count": 115,
   "metadata": {},
   "outputs": [
    {
     "data": {
      "image/png": "[encoded data removed]",
      "text/plain": [
       "<Figure size 432x288 with 1 Axes>"
      ]
     },
     "metadata": {
      "needs_background": "light"
     },
     "output_type": "display_data"
    }
   ],
   "source": [
    "# look at the relationship between area and total production, area and farmers\n",
    "plot_area_prod = sns.scatterplot(df['Total-Area(Ha)'], df['Production(MT)'])\n"
   ]
  },
  {
   "cell_type": "code",
   "execution_count": 116,
   "metadata": {},
   "outputs": [
    {
     "data": {
      "image/png": "[encoded data removed]",
      "text/plain": [
       "<Figure size 432x288 with 1 Axes>"
      ]
     },
     "metadata": {
      "needs_background": "light"
     },
     "output_type": "display_data"
    }
   ],
   "source": [
    "plot_area_farmers = sns.scatterplot(df['Total-Area(Ha)'], df['Farmers'])\n"
   ]
  },
  {
   "cell_type": "code",
   "execution_count": 186,
   "metadata": {},
   "outputs": [
    {
     "data": {
      "image/png": "[encoded data removed]",
      "text/plain": [
       "<Figure size 360x360 with 1 Axes>"
      ]
     },
     "metadata": {
      "needs_background": "light"
     },
     "output_type": "display_data"
    }
   ],
   "source": [
    "plot_farmers_yield = sns.lmplot('Total-Area(Ha)', 'Production(MT)', data = df)\n"
   ]
  },
  {
   "cell_type": "code",
   "execution_count": 187,
   "metadata": {},
   "outputs": [
    {
     "data": {
      "text/plain": [
       "<matplotlib.axes._subplots.AxesSubplot at 0x1a22f3f940>"
      ]
     },
     "execution_count": 187,
     "metadata": {},
     "output_type": "execute_result"
    },
    {
     "data": {
      "image/png": "[encoded data removed]",
      "text/plain": [
       "<Figure size 288x432 with 2 Axes>"
      ]
     },
     "metadata": {
      "needs_background": "light"
     },
     "output_type": "display_data"
    }
   ],
   "source": [
    "#correration matrix\n",
    "corrmat = df.corr()\n",
    "f, ax = plt.subplots(figsize=(4,6))\n",
    "# sns.heatmap(corrmat,vmax=1, square=True\n",
    "sns.heatmap(corrmat, cbar=True, annot=True, square=True, fmt='.2f', annot_kws={'size': 10})\n"
   ]
  },
  {
   "cell_type": "code",
   "execution_count": 174,
   "metadata": {},
   "outputs": [],
   "source": [
    "# Calculate pearson correlation\n",
    "from scipy.stats.stats import pearsonr\n",
    "import numpy as np"
   ]
  },
  {
   "cell_type": "code",
   "execution_count": 235,
   "metadata": {},
   "outputs": [
    {
     "name": "stdout",
     "output_type": "stream",
     "text": [
      "0.9949702906104382 1.7194250426617838e-24\n"
     ]
    }
   ],
   "source": [
    "pc, pval = pearsonr(df['Production(MT)'], df['Total-Area(Ha)'])\n",
    "#here pc is r or correlation, and  pval \n",
    "print(pc,pval)"
   ]
  },
  {
   "cell_type": "code",
   "execution_count": 189,
   "metadata": {},
   "outputs": [],
   "source": [
    "# Calculate Standard deviations\n",
    "x = np.std(df['Total-Area(Ha)'], ddof = 1)\n",
    "y = np.std(df['Production(MT)'], ddof = 1)\n",
    "x,y\n",
    "x_mean = np.mean(df['Total-Area(Ha)'])\n",
    "y_mean = np.mean(df['Production(MT)'])"
   ]
  },
  {
   "cell_type": "code",
   "execution_count": 190,
   "metadata": {},
   "outputs": [],
   "source": [
    "# calculate the slope of the line\n",
    "slp = pc*(y/x)\n",
    "# The y intercept always goes through the mean of x and y, therefore y intercept will be y = mx+b\n",
    "# or b = mx - y\n",
    "y_int = y_mean - (slp * x_mean) \n"
   ]
  },
  {
   "cell_type": "code",
   "execution_count": 205,
   "metadata": {},
   "outputs": [],
   "source": [
    "regression_line = []\n",
    "for i in df['Total-Area(Ha)']:\n",
    "#     print(i)\n",
    "    regression_line.append((slp*i)+ y_int)"
   ]
  },
  {
   "cell_type": "code",
   "execution_count": 206,
   "metadata": {},
   "outputs": [
    {
     "data": {
      "image/png": "[encoded data removed]",
      "text/plain": [
       "<Figure size 432x288 with 1 Axes>"
      ]
     },
     "metadata": {
      "needs_background": "light"
     },
     "output_type": "display_data"
    },
    {
     "data": {
      "image/png": "[encoded data removed]",
      "text/plain": [
       "<Figure size 360x360 with 1 Axes>"
      ]
     },
     "metadata": {
      "needs_background": "light"
     },
     "output_type": "display_data"
    }
   ],
   "source": [
    "sns.scatterplot('Total-Area(Ha)', 'Production(MT)', data = df)\n",
    "plt.plot(df['Total-Area(Ha)'],regression_line)\n",
    "plot_farmers_yield = sns.lmplot('Total-Area(Ha)', 'Production(MT)', data = df)\n",
    "\n"
   ]
  },
  {
   "cell_type": "code",
   "execution_count": 207,
   "metadata": {},
   "outputs": [
    {
     "data": {
      "text/plain": [
       "(0.20110447067135154, -0.03180993684267719)"
      ]
     },
     "execution_count": 207,
     "metadata": {},
     "output_type": "execute_result"
    }
   ],
   "source": [
    "slp,y_int\n",
    "# Std error of estimate\n",
    "#Confidence interval for expected value\n"
   ]
  },
  {
   "cell_type": "code",
   "execution_count": 208,
   "metadata": {},
   "outputs": [],
   "source": [
    "# calculating the slope , intercept for a line\n",
    "import scipy.stats as stats\n",
    "slope,intercept,rval,pval, stderr = stats.linregress(df['Total-Area(Ha)'],df['Production(MT)'])"
   ]
  },
  {
   "cell_type": "code",
   "execution_count": 209,
   "metadata": {},
   "outputs": [
    {
     "data": {
      "text/plain": [
       "(0.20110447067135154,\n",
       " -0.03180993684267719,\n",
       " 0.9949702906104382,\n",
       " 1.7194250426617893e-24)"
      ]
     },
     "execution_count": 209,
     "metadata": {},
     "output_type": "execute_result"
    }
   ],
   "source": [
    "slope,intercept,rval,pval\n",
    "# r val "
   ]
  },
  {
   "cell_type": "code",
   "execution_count": 210,
   "metadata": {},
   "outputs": [],
   "source": [
    "# Predicting the values accroding the regression  y = slope * x + intercept\n",
    "# for area 2000 hec\n",
    "production_2000  = (slope*2000) + intercept\n",
    "production_2000_manual = (slp * 2000) + y_int"
   ]
  },
  {
   "cell_type": "code",
   "execution_count": 211,
   "metadata": {},
   "outputs": [
    {
     "data": {
      "text/plain": [
       "402.17713140586045"
      ]
     },
     "execution_count": 211,
     "metadata": {},
     "output_type": "execute_result"
    }
   ],
   "source": [
    "production_2000"
   ]
  },
  {
   "cell_type": "code",
   "execution_count": 212,
   "metadata": {},
   "outputs": [
    {
     "data": {
      "text/plain": [
       "402.17713140586045"
      ]
     },
     "execution_count": 212,
     "metadata": {},
     "output_type": "execute_result"
    }
   ],
   "source": [
    "production_2000_manual"
   ]
  },
  {
   "cell_type": "code",
   "execution_count": 213,
   "metadata": {},
   "outputs": [
    {
     "name": "stdout",
     "output_type": "stream",
     "text": [
      "402.3782358765318\n"
     ]
    }
   ],
   "source": [
    "# Additional yield per farmer\n",
    "production_2001  = (slope*2001) + intercept\n",
    "print(production_2001)"
   ]
  },
  {
   "cell_type": "code",
   "execution_count": 216,
   "metadata": {},
   "outputs": [
    {
     "data": {
      "text/plain": [
       "0.20110447067133919"
      ]
     },
     "execution_count": 216,
     "metadata": {},
     "output_type": "execute_result"
    }
   ],
   "source": [
    "# This is the slope. The slope is the change in y , when x is changed by each units\n",
    "production_2001 - production_2000\n",
    "# In our case here for increase in unit area the total production goes up by 0.20"
   ]
  },
  {
   "cell_type": "code",
   "execution_count": 217,
   "metadata": {},
   "outputs": [],
   "source": [
    "# What if there is no land\n",
    "production_0 = (slope*0) + intercept"
   ]
  },
  {
   "cell_type": "code",
   "execution_count": 219,
   "metadata": {},
   "outputs": [
    {
     "data": {
      "text/plain": [
       "-0.03180993684267719"
      ]
     },
     "execution_count": 219,
     "metadata": {},
     "output_type": "execute_result"
    }
   ],
   "source": [
    "production_0"
   ]
  },
  {
   "cell_type": "code",
   "execution_count": 220,
   "metadata": {},
   "outputs": [],
   "source": [
    "# if there is no land the production is 0, however for unit increase in the land the production goes up by 0.20. \n",
    "# We can see that the land and the production are positively correlated. "
   ]
  },
  {
   "cell_type": "code",
   "execution_count": 229,
   "metadata": {},
   "outputs": [],
   "source": [
    "# How much land would you need to produce 100 MT of coffee\n",
    "land_required_100 = (100 - intercept)/slope"
   ]
  },
  {
   "cell_type": "code",
   "execution_count": 230,
   "metadata": {},
   "outputs": [
    {
     "data": {
      "text/plain": [
       "497.41216395092687"
      ]
     },
     "execution_count": 230,
     "metadata": {},
     "output_type": "execute_result"
    }
   ],
   "source": [
    "land_required_100"
   ]
  },
  {
   "cell_type": "code",
   "execution_count": 243,
   "metadata": {},
   "outputs": [
    {
     "data": {
      "text/plain": [
       "(0.20110447067135154,\n",
       " -0.03180993684267719,\n",
       " 0.9949702906104382,\n",
       " 1.7194250426617838e-24,\n",
       " 0.004221699887030584)"
      ]
     },
     "execution_count": 243,
     "metadata": {},
     "output_type": "execute_result"
    }
   ],
   "source": [
    "slope,intercept,rval,pval,stderr"
   ]
  },
  {
   "cell_type": "code",
   "execution_count": 247,
   "metadata": {},
   "outputs": [
    {
     "name": "stdout",
     "output_type": "stream",
     "text": [
      "                            OLS Regression Results                            \n",
      "==============================================================================\n",
      "Dep. Variable:         Production(MT)   R-squared:                       0.990\n",
      "Model:                            OLS   Adj. R-squared:                  0.990\n",
      "Method:                 Least Squares   F-statistic:                     2269.\n",
      "Date:                Thu, 03 Oct 2019   Prob (F-statistic):           1.72e-24\n",
      "Time:                        15:22:27   Log-Likelihood:                -93.292\n",
      "No. Observations:                  25   AIC:                             190.6\n",
      "Df Residuals:                      23   BIC:                             193.0\n",
      "Df Model:                           1                                         \n",
      "Covariance Type:            nonrobust                                         \n",
      "==================================================================================\n",
      "                     coef    std err          t      P>|t|      [0.025      0.975]\n",
      "----------------------------------------------------------------------------------\n",
      "const             -0.0318      2.274     -0.014      0.989      -4.735       4.671\n",
      "Total-Area(Ha)     0.2011      0.004     47.636      0.000       0.192       0.210\n",
      "==============================================================================\n",
      "Omnibus:                       15.943   Durbin-Watson:                   2.078\n",
      "Prob(Omnibus):                  0.000   Jarque-Bera (JB):               24.552\n",
      "Skew:                          -1.171   Prob(JB):                     4.66e-06\n",
      "Kurtosis:                       7.252   Cond. No.                         581.\n",
      "==============================================================================\n",
      "\n",
      "Warnings:\n",
      "[1] Standard Errors assume that the covariance matrix of the errors is correctly specified.\n"
     ]
    }
   ],
   "source": [
    "# using sm model for hypothesis testing \n",
    "import statsmodels.api as sm\n",
    "X = df['Total-Area(Ha)']\n",
    "Y = df['Production(MT)']\n",
    "\n",
    "X = sm.add_constant(X) # adding a constant\n",
    " \n",
    "model = sm.OLS(Y, X).fit()\n",
    "# predictions = model.predict(X) \n",
    " \n",
    "print_model = model.summary()\n",
    "print(print_model)"
   ]
  },
  {
   "cell_type": "code",
   "execution_count": 248,
   "metadata": {},
   "outputs": [
    {
     "data": {
      "text/plain": [
       "True"
      ]
     },
     "execution_count": 248,
     "metadata": {},
     "output_type": "execute_result"
    }
   ],
   "source": [
    "0.989 > 0.05"
   ]
  },
  {
   "cell_type": "code",
   "execution_count": null,
   "metadata": {},
   "outputs": [],
   "source": []
  }
 ],
 "metadata": {
  "kernelspec": {
   "display_name": "Python 3",
   "language": "python",
   "name": "python3"
  },
  "language_info": {
   "codemirror_mode": {
    "name": "ipython",
    "version": 3
   },
   "file_extension": ".py",
   "mimetype": "text/x-python",
   "name": "python",
   "nbconvert_exporter": "python",
   "pygments_lexer": "ipython3",
   "version": "3.7.3"
  }
 },
 "nbformat": 4,
 "nbformat_minor": 2
}
